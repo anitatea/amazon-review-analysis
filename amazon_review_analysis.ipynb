{
 "cells": [
  {
   "cell_type": "markdown",
   "metadata": {},
   "source": [
    "# Analysis on Amazon Reviews"
   ]
  },
  {
   "cell_type": "markdown",
   "metadata": {},
   "source": [
    "data from: https://nijianmo.github.io/amazon/index.html\n",
    "\n",
    "\n",
    "Goal: Recommend items based on user reviews. "
   ]
  },
  {
   "cell_type": "markdown",
   "metadata": {},
   "source": [
    "TBD: add content w/ links to sections"
   ]
  },
  {
   "cell_type": "code",
   "execution_count": 3,
   "metadata": {
    "ExecuteTime": {
     "end_time": "2020-10-14T20:16:00.254828Z",
     "start_time": "2020-10-14T20:15:58.430758Z"
    }
   },
   "outputs": [],
   "source": [
    "import pandas as pd\n",
    "import gzip\n",
    "import json"
   ]
  },
  {
   "cell_type": "code",
   "execution_count": 2,
   "metadata": {
    "ExecuteTime": {
     "end_time": "2020-10-14T19:59:40.815169Z",
     "start_time": "2020-10-14T19:59:40.808441Z"
    }
   },
   "outputs": [],
   "source": [
    "# read in data\n",
    "def parse(path):\n",
    "  g = gzip.open(path, 'r')\n",
    "  for l in g:\n",
    "    yield json.loads(l)"
   ]
  },
  {
   "cell_type": "code",
   "execution_count": null,
   "metadata": {
    "ExecuteTime": {
     "end_time": "2020-10-14T20:00:50.498195Z",
     "start_time": "2020-10-14T20:00:33.590Z"
    }
   },
   "outputs": [],
   "source": [
    "# note: takes a while to import the large data set, skip to importing csv file\n",
    "def parse(path):\n",
    "  g = gzip.open(path, 'rb')\n",
    "  for l in g:\n",
    "    yield json.loads(l)\n",
    "\n",
    "def getDF(path):\n",
    "  i = 0\n",
    "  df = {}\n",
    "  for d in parse(path):\n",
    "    df[i] = d\n",
    "    i += 1\n",
    "  return pd.DataFrame.from_dict(df, orient='index')\n",
    "\n",
    "df = getDF('Video_Games.json.gz')"
   ]
  },
  {
   "cell_type": "code",
   "execution_count": null,
   "metadata": {
    "ExecuteTime": {
     "end_time": "2020-10-14T20:00:50.540003Z",
     "start_time": "2020-10-14T20:00:34.355Z"
    }
   },
   "outputs": [],
   "source": [
    "df.head()"
   ]
  },
  {
   "cell_type": "code",
   "execution_count": null,
   "metadata": {
    "ExecuteTime": {
     "end_time": "2020-10-14T20:00:50.574076Z",
     "start_time": "2020-10-14T20:00:35.057Z"
    }
   },
   "outputs": [],
   "source": [
    "df_meta = getDF('meta_Video_Games.json.gz')"
   ]
  },
  {
   "cell_type": "code",
   "execution_count": null,
   "metadata": {
    "ExecuteTime": {
     "end_time": "2020-10-14T20:00:50.581964Z",
     "start_time": "2020-10-14T20:00:38.014Z"
    }
   },
   "outputs": [],
   "source": [
    "df_meta.head()"
   ]
  },
  {
   "cell_type": "markdown",
   "metadata": {
    "ExecuteTime": {
     "end_time": "2020-09-12T15:05:06.318070Z",
     "start_time": "2020-09-12T15:05:06.310990Z"
    }
   },
   "source": [
    "Merge both data sets"
   ]
  },
  {
   "cell_type": "code",
   "execution_count": null,
   "metadata": {
    "ExecuteTime": {
     "end_time": "2020-10-14T20:00:50.587823Z",
     "start_time": "2020-10-14T20:00:41.795Z"
    }
   },
   "outputs": [],
   "source": [
    "merge = df.merge(df_meta, on=\"asin\", how='left')"
   ]
  },
  {
   "cell_type": "code",
   "execution_count": null,
   "metadata": {
    "ExecuteTime": {
     "end_time": "2020-10-14T20:00:50.595399Z",
     "start_time": "2020-10-14T20:00:42.758Z"
    }
   },
   "outputs": [],
   "source": [
    "pd.options.display.max_columns = None\n",
    "merge.tail()"
   ]
  },
  {
   "cell_type": "code",
   "execution_count": null,
   "metadata": {
    "ExecuteTime": {
     "start_time": "2020-10-14T19:59:38.682Z"
    }
   },
   "outputs": [],
   "source": [
    "#Save data to csv file on hard disk \n",
    "merge.to_csv('/Users/anitatran/Desktop/amazon_review_project/video_games_reviews.csv')\n"
   ]
  },
  {
   "cell_type": "markdown",
   "metadata": {},
   "source": [
    "## Loading data from CSV file saved (start here)"
   ]
  },
  {
   "cell_type": "code",
   "execution_count": 1,
   "metadata": {
    "ExecuteTime": {
     "end_time": "2020-10-14T20:45:18.258855Z",
     "start_time": "2020-10-14T20:42:27.612901Z"
    }
   },
   "outputs": [
    {
     "name": "stderr",
     "output_type": "stream",
     "text": [
      "/opt/anaconda3/lib/python3.7/site-packages/IPython/core/interactiveshell.py:3051: DtypeWarning: Columns (10,14,20,26) have mixed types. Specify dtype option on import or set low_memory=False.\n",
      "  interactivity=interactivity, compiler=compiler, result=result)\n"
     ]
    }
   ],
   "source": [
    "#Loading the data from the csv file \n",
    "import pandas as pd\n",
    "df = pd.read_csv('video_games_reviews.csv')"
   ]
  },
  {
   "cell_type": "code",
   "execution_count": null,
   "metadata": {},
   "outputs": [],
   "source": []
  },
  {
   "cell_type": "code",
   "execution_count": null,
   "metadata": {
    "ExecuteTime": {
     "start_time": "2020-10-14T19:59:38.735Z"
    }
   },
   "outputs": [],
   "source": [
    "# # overall average of rating \n",
    "# ratings = []\n",
    "\n",
    "# for review in parse(\"Video_Games.json.gz\"):\n",
    "#   ratings.append(review['overall'])\n",
    "\n",
    "# print(sum(ratings) / len(ratings))"
   ]
  },
  {
   "cell_type": "code",
   "execution_count": 4,
   "metadata": {
    "ExecuteTime": {
     "end_time": "2020-10-14T20:16:07.511890Z",
     "start_time": "2020-10-14T20:16:07.448608Z"
    }
   },
   "outputs": [
    {
     "ename": "NameError",
     "evalue": "name 'merge' is not defined",
     "output_type": "error",
     "traceback": [
      "\u001b[0;31m---------------------------------------------------------------------------\u001b[0m",
      "\u001b[0;31mNameError\u001b[0m                                 Traceback (most recent call last)",
      "\u001b[0;32m<ipython-input-4-399bc28f49c9>\u001b[0m in \u001b[0;36m<module>\u001b[0;34m\u001b[0m\n\u001b[1;32m      1\u001b[0m \u001b[0;31m# selecting relevant columns\u001b[0m\u001b[0;34m\u001b[0m\u001b[0;34m\u001b[0m\u001b[0;34m\u001b[0m\u001b[0m\n\u001b[0;32m----> 2\u001b[0;31m \u001b[0mdf_test\u001b[0m \u001b[0;34m=\u001b[0m \u001b[0mmerge\u001b[0m\u001b[0;34m[\u001b[0m\u001b[0;34m[\u001b[0m\u001b[0;34m'reviewerID'\u001b[0m\u001b[0;34m,\u001b[0m\u001b[0;34m'asin'\u001b[0m\u001b[0;34m,\u001b[0m\u001b[0;34m'reviewerName'\u001b[0m\u001b[0;34m,\u001b[0m\u001b[0;34m'reviewText'\u001b[0m\u001b[0;34m,\u001b[0m\u001b[0;34m'overall'\u001b[0m\u001b[0;34m,\u001b[0m\u001b[0;34m'summary'\u001b[0m\u001b[0;34m,\u001b[0m\u001b[0;34m'title'\u001b[0m\u001b[0;34m]\u001b[0m\u001b[0;34m]\u001b[0m\u001b[0;34m\u001b[0m\u001b[0;34m\u001b[0m\u001b[0m\n\u001b[0m",
      "\u001b[0;31mNameError\u001b[0m: name 'merge' is not defined"
     ]
    }
   ],
   "source": [
    "# selecting relevant columns \n",
    "# df_test = merge[['reviewerID','asin','reviewerName','reviewText','overall','summary','title']]"
   ]
  },
  {
   "cell_type": "code",
   "execution_count": null,
   "metadata": {
    "ExecuteTime": {
     "start_time": "2020-10-14T19:59:38.831Z"
    }
   },
   "outputs": [],
   "source": [
    "# drop nulls\n",
    "# df =  df_test.dropna()\n",
    "# df.info()"
   ]
  },
  {
   "cell_type": "code",
   "execution_count": null,
   "metadata": {
    "ExecuteTime": {
     "start_time": "2020-10-14T19:59:38.838Z"
    }
   },
   "outputs": [],
   "source": [
    "print( 'Total reviews:' , len(df)  )\n",
    "print( 'Number of products reviewed:' , len(df.asin.unique()) )\n",
    "print('Total number of reviewers:', len(df.reviewerID.unique()) )"
   ]
  },
  {
   "cell_type": "markdown",
   "metadata": {},
   "source": [
    "## Data Visualization\n",
    "\n",
    "### Visualizing ratings distribution in the data"
   ]
  },
  {
   "cell_type": "code",
   "execution_count": null,
   "metadata": {
    "ExecuteTime": {
     "start_time": "2020-10-14T19:59:38.848Z"
    }
   },
   "outputs": [],
   "source": [
    "import matplotlib.pyplot as plt \n",
    "import seaborn as sns \n",
    "#Group dataframe by rating \n",
    "ratings_distribution = df[['asin','overall']] \\\n",
    ".groupby('overall') \\\n",
    ".count() \\\n",
    ".reset_index() \\\n",
    ".rename( columns = {'asin':'count'} )\n",
    "\n",
    "#visualize distributions using a doughnut plot \n",
    "f,ax = plt.subplots( figsize = (10,10) )\n",
    "names =  [ '1 Star', '2 Stars', '3 Stars', '4 Stars', '5 Stars' ]\n",
    "size = list( ratings_distribution['count'] )\n",
    "my_circle = plt.Circle( (0,0), 0.7, color = 'white' )\n",
    "plt.pie( size, labels = names, wedgeprops = { 'linewidth' : 7, 'edgecolor' : 'white' }, colors=['yellow','green','orange','blue', 'red'],\n",
    "       textprops={'fontsize': 14})\n",
    "p = plt.gcf()\n",
    "p.gca().add_artist(my_circle)\n",
    "plt.show()"
   ]
  },
  {
   "cell_type": "code",
   "execution_count": null,
   "metadata": {
    "ExecuteTime": {
     "start_time": "2020-10-14T19:59:38.855Z"
    }
   },
   "outputs": [],
   "source": [
    "df.hist()"
   ]
  },
  {
   "cell_type": "markdown",
   "metadata": {},
   "source": [
    "Looking at the charts we can see that 5 star reviews account for *most* of all reviews and 1 star reviews account for the smallest chunk. This can be interpreted as customers only review a product when they are very satisfied.\n",
    "\n",
    "My previous connotation is most people only review a product when they are very satisfied with it. According to the data that does not seem to be the case."
   ]
  },
  {
   "cell_type": "markdown",
   "metadata": {},
   "source": [
    "## Data Cleaning & Word Embedding"
   ]
  },
  {
   "cell_type": "code",
   "execution_count": null,
   "metadata": {
    "ExecuteTime": {
     "start_time": "2020-10-14T19:59:38.869Z"
    }
   },
   "outputs": [],
   "source": [
    "#Combining review text and summary columns into one column called 'review_text\n",
    "df['review_text'] = df['reviewText'] + ' . ' + df['summary']\n",
    "del df['reviewText']\n"
   ]
  },
  {
   "cell_type": "code",
   "execution_count": null,
   "metadata": {
    "ExecuteTime": {
     "start_time": "2020-10-14T19:59:38.884Z"
    }
   },
   "outputs": [],
   "source": [
    "del df['summary']\n",
    "df.head()"
   ]
  },
  {
   "cell_type": "code",
   "execution_count": null,
   "metadata": {
    "ExecuteTime": {
     "start_time": "2020-10-14T19:59:38.893Z"
    }
   },
   "outputs": [],
   "source": [
    "# the percentage of missing data in each column\n",
    "df.isnull().sum() / len(df)\n"
   ]
  },
  {
   "cell_type": "code",
   "execution_count": null,
   "metadata": {
    "ExecuteTime": {
     "start_time": "2020-10-14T19:59:38.900Z"
    }
   },
   "outputs": [],
   "source": [
    "#importing necessary libraries \n",
    "import numpy as np\n",
    "import string \n",
    "import nltk\n",
    "from nltk.stem.porter import PorterStemmer\n",
    "from nltk.stem import WordNetLemmatizer\n",
    "from sklearn.feature_extraction.text import CountVectorizer, TfidfTransformer\n",
    "nltk.download('wordnet')\n",
    "nltk.download('punkt')\n",
    "import warnings\n",
    "warnings.filterwarnings('ignore')"
   ]
  },
  {
   "cell_type": "code",
   "execution_count": null,
   "metadata": {
    "ExecuteTime": {
     "start_time": "2020-10-14T19:59:38.913Z"
    }
   },
   "outputs": [],
   "source": [
    "# saving the original df\n",
    "df_original = df"
   ]
  },
  {
   "cell_type": "code",
   "execution_count": null,
   "metadata": {
    "ExecuteTime": {
     "start_time": "2020-10-14T19:59:38.920Z"
    }
   },
   "outputs": [],
   "source": [
    "df_original.info()"
   ]
  },
  {
   "cell_type": "code",
   "execution_count": null,
   "metadata": {
    "ExecuteTime": {
     "start_time": "2020-10-14T19:59:38.927Z"
    }
   },
   "outputs": [],
   "source": [
    "# sample 100000 randomly for easier computation here...\n",
    "df = df_original.sample(100000).reset_index(drop=True)"
   ]
  },
  {
   "cell_type": "code",
   "execution_count": null,
   "metadata": {},
   "outputs": [],
   "source": []
  },
  {
   "cell_type": "code",
   "execution_count": null,
   "metadata": {
    "ExecuteTime": {
     "start_time": "2020-10-14T19:59:38.940Z"
    }
   },
   "outputs": [],
   "source": [
    "import logging  # Setting up the loggings to monitor gensim\n",
    "logging.basicConfig(format=\"%(levelname)s - %(asctime)s: %(message)s\", datefmt= '%H:%M:%S', level=logging.INFO)"
   ]
  },
  {
   "cell_type": "code",
   "execution_count": null,
   "metadata": {
    "ExecuteTime": {
     "start_time": "2020-10-14T19:59:38.947Z"
    }
   },
   "outputs": [],
   "source": [
    "%%time\n",
    "#Function that lemmatizes and then stems word tokens in that order \n",
    "def lemmatizer_stemmer(word):\n",
    "    return PorterStemmer().stem( WordNetLemmatizer().lemmatize(word, pos = 'v') )\n",
    "#Tokenizer that calls the lemmatizer_stemmer function and removes tokens that are just punctuation \n",
    "def tokenizer(text):\n",
    "    return [ lemmatizer_stemmer(word) for word in nltk.word_tokenize(text) if word not in string.punctuation and len(word) > 3 ]\n",
    "#Converting pre-processed text to bag of words embedding \n",
    "vectorizer_unigram = CountVectorizer( max_features = 100, min_df = 15, max_df = 0.5 , ngram_range = (1,1), stop_words = 'english', tokenizer = tokenizer )\n",
    "X_unigram_bow = vectorizer_unigram.fit_transform( df.review_text ).tocsc()"
   ]
  },
  {
   "cell_type": "markdown",
   "metadata": {},
   "source": [
    "#### Looking at the 20 most commonly occuring unigrams in the text vectors"
   ]
  },
  {
   "cell_type": "code",
   "execution_count": null,
   "metadata": {
    "ExecuteTime": {
     "start_time": "2020-10-14T19:59:38.959Z"
    }
   },
   "outputs": [],
   "source": [
    "freq_unigram = zip( vectorizer_unigram.get_feature_names(), np.asarray( X_unigram_bow.sum(axis = 0) ).ravel() ) \n",
    "freq_unigram_sorted = sorted( list(freq_unigram), key = lambda x: x[1] , reverse = True)\n",
    "for word_tuple in freq_unigram_sorted[:20]:\n",
    "    print(\"Feature: '{}' appeared {} times\".format(word_tuple[0],word_tuple[1]) )"
   ]
  },
  {
   "cell_type": "code",
   "execution_count": null,
   "metadata": {
    "ExecuteTime": {
     "start_time": "2020-10-14T19:59:38.966Z"
    }
   },
   "outputs": [],
   "source": [
    "df.head()"
   ]
  },
  {
   "cell_type": "code",
   "execution_count": null,
   "metadata": {
    "ExecuteTime": {
     "end_time": "2020-09-01T04:47:54.245799Z",
     "start_time": "2020-08-31T22:39:25.755Z"
    }
   },
   "outputs": [],
   "source": []
  },
  {
   "cell_type": "code",
   "execution_count": null,
   "metadata": {
    "ExecuteTime": {
     "start_time": "2020-10-14T19:59:38.981Z"
    }
   },
   "outputs": [],
   "source": [
    "from wordcloud import WordCloud\n",
    "frequency_dict = dict(freq_unigram_sorted)\n",
    "wordcloud = WordCloud(background_color = 'white')\n",
    "wordcloud.generate_from_frequencies(frequencies = frequency_dict)\n",
    "plt.figure(figsize = (12,12))\n",
    "plt.imshow(wordcloud, interpolation=\"bilinear\")\n",
    "plt.axis(\"off\")\n",
    "plt.show()"
   ]
  },
  {
   "cell_type": "markdown",
   "metadata": {},
   "source": [
    "#### Looking at the 20 most commonly occuring bi-grams in the text vectors"
   ]
  },
  {
   "cell_type": "code",
   "execution_count": null,
   "metadata": {
    "ExecuteTime": {
     "start_time": "2020-10-14T19:59:38.990Z"
    }
   },
   "outputs": [],
   "source": [
    "%%time\n",
    "vectorizer_bigram = CountVectorizer( max_features = 100, min_df = 15, max_df = 0.5 , ngram_range = (2,2), stop_words = 'english', tokenizer = tokenizer )\n",
    "X_bigram_bow = vectorizer_bigram.fit_transform( df.review_text ).tocsc()\n",
    "\n",
    "freq_bigram = zip( vectorizer_bigram.get_feature_names(), np.asarray( X_bigram_bow.sum(axis = 0) ).ravel() ) \n",
    "freq_bigram_sorted = sorted( list(freq_bigram), key = lambda x: x[1] , reverse = True)\n",
    "for word_tuple in freq_bigram_sorted[:20]:\n",
    "    print(\"Feature: '{}' appeared {} times\".format(word_tuple[0],word_tuple[1]) )"
   ]
  },
  {
   "cell_type": "markdown",
   "metadata": {},
   "source": [
    "Naive Bayes with BOW and TF-IDF Word Embeddings (Multi-Class Classification)\n",
    "\n",
    "\n",
    "The gensim library has a great pre-processor that tokenizes removes punctuation, non-alphabetic characters,\n",
    "extra white spaces , stopwords and stems tokens. The purpose of this section is to tokenize and pre-process\n",
    "review text and fit a naive bayes classifier to see if we can build a model that can with some accuracy\n",
    "predict the overall rating of a review given the text of the review. For this problem I'll use the following\n",
    "combination of word embeddings with a Naive Bayes classifier.\n",
    "\n",
    "* Unigrams w/ Bag of Words Embeddings\n",
    "* Unigrams w/ Tf-idf Embeddings\n",
    "* Bi-grams w/ Bag of Words Embeddings\n",
    "* Bi-grams w/ Tf-idf Embeddings"
   ]
  },
  {
   "cell_type": "code",
   "execution_count": null,
   "metadata": {
    "ExecuteTime": {
     "start_time": "2020-10-14T19:59:38.999Z"
    }
   },
   "outputs": [],
   "source": [
    "from gensim.parsing.preprocessing import preprocess_documents\n",
    "\n",
    "def gensim_preprocess(text):\n",
    "    return preprocess_documents( [text] )[0]\n",
    "\n",
    "vectorizer_unigram_gensim = CountVectorizer( min_df = 15, max_df = 0.7 , ngram_range = (1,1), tokenizer = gensim_preprocess )\n",
    "X_unigram_bow_gensim = vectorizer_unigram_gensim.fit_transform( df.review_text )"
   ]
  },
  {
   "cell_type": "markdown",
   "metadata": {},
   "source": [
    "Following steps\n",
    "- Split dataset into train and test \n",
    "- Define pipeline that transforms bag of words to tf-idf embedding \n",
    "- Fit a naive bayes classifier"
   ]
  },
  {
   "cell_type": "code",
   "execution_count": null,
   "metadata": {
    "ExecuteTime": {
     "start_time": "2020-10-14T19:59:39.008Z"
    }
   },
   "outputs": [],
   "source": [
    "import warnings\n",
    "from sklearn.pipeline import Pipeline\n",
    "from sklearn.model_selection import train_test_split, GridSearchCV\n",
    "from sklearn.naive_bayes import MultinomialNB\n",
    "warnings.simplefilter(action='ignore', category=FutureWarning)\n",
    "\n",
    "X_unigram = X_unigram_bow_gensim\n",
    "y = df.overall.values\n",
    "\n",
    "X_unigram_train,X_unigram_test,y_train,y_test = train_test_split( X_unigram, y, test_size = 0.3, random_state = 42 )\n",
    "\n",
    "#Pipeline that takes in a Bag of words embeddings (Sklearn Countvectorizer) and converts them to Tf-idf embeddings \n",
    "#and trains a Naive Bayes Classifier on them\n",
    "tfidf_naiveB_pipeline = Pipeline( steps = [ ( 'tfifd', TfidfTransformer() ) , ( 'nb', MultinomialNB() ) ])"
   ]
  },
  {
   "cell_type": "markdown",
   "metadata": {},
   "source": [
    "#### Unigram w/ Tf-idf Embeddings"
   ]
  },
  {
   "cell_type": "code",
   "execution_count": null,
   "metadata": {
    "ExecuteTime": {
     "start_time": "2020-10-14T19:59:39.016Z"
    }
   },
   "outputs": [],
   "source": [
    "#Cross Validating to find best value for hyperparameter alpha\n",
    "param_dict_nb_tfidf = dict( nb__alpha = [0.001,0.01,1.0,10] )\n",
    "cv_nb_tfidf_unigram = GridSearchCV( tfidf_naiveB_pipeline, param_grid = param_dict_nb_tfidf, cv = 5, n_jobs = -1, iid = False )\n",
    "cv_nb_tfidf_unigram.fit(X_unigram_train,y_train)\n",
    "print('Best Parameter alpha:', cv_nb_tfidf_unigram.best_params_)\n",
    "print('Best Validation Score:', cv_nb_tfidf_unigram.best_score_)"
   ]
  },
  {
   "cell_type": "code",
   "execution_count": null,
   "metadata": {
    "ExecuteTime": {
     "start_time": "2020-10-14T19:59:39.022Z"
    }
   },
   "outputs": [],
   "source": [
    "test_score1 = cv_nb_tfidf_unigram.best_estimator_.score(X_unigram_test,y_test)  * 100\n",
    "print('Accuracy on holdout set: {} %'.format(test_score1) )"
   ]
  },
  {
   "cell_type": "markdown",
   "metadata": {},
   "source": [
    "#### Unigram w/ Bag of Words Embeddings"
   ]
  },
  {
   "cell_type": "code",
   "execution_count": null,
   "metadata": {
    "ExecuteTime": {
     "start_time": "2020-10-14T19:59:39.031Z"
    }
   },
   "outputs": [],
   "source": [
    "#Cross Validating to find best value for hyperparameter alpha\n",
    "nb = MultinomialNB()\n",
    "param_dict_nb_countVect = dict( alpha = [0.001,0.01,1.0,10] )\n",
    "cv_nb_countVect_unigram = GridSearchCV( nb, param_grid = param_dict_nb_countVect, cv = 5, n_jobs = -1, iid = False )\n",
    "cv_nb_countVect_unigram.fit(X_unigram_train,y_train)\n",
    "print('Best Parameter alpha:', cv_nb_countVect_unigram.best_params_)\n",
    "print('Best Validation Score:', cv_nb_countVect_unigram.best_score_)"
   ]
  },
  {
   "cell_type": "code",
   "execution_count": null,
   "metadata": {
    "ExecuteTime": {
     "start_time": "2020-10-14T19:59:39.038Z"
    }
   },
   "outputs": [],
   "source": [
    "test_score2 = cv_nb_countVect_unigram.best_estimator_.score(X_unigram_test,y_test)  * 100\n",
    "print('Accuracy on holdout set: {} %'.format(test_score2) )"
   ]
  },
  {
   "cell_type": "code",
   "execution_count": null,
   "metadata": {
    "ExecuteTime": {
     "start_time": "2020-10-14T19:59:39.047Z"
    }
   },
   "outputs": [],
   "source": [
    "vectorizer_bigram_gensim = CountVectorizer(min_df = 15, max_df = 0.7 , ngram_range = (2,2), tokenizer = gensim_preprocess )\n",
    "X_bigram_bow_gensim = vectorizer_bigram_gensim.fit_transform( df.review_text )\n",
    "\n",
    "X_bigram = X_bigram_bow_gensim\n",
    "X_bigram_train, X_bigram_test, y_train, y_test = train_test_split( X_bigram, y, test_size = 0.3, random_state = 42 )"
   ]
  },
  {
   "cell_type": "markdown",
   "metadata": {},
   "source": [
    "#### Bi-grams w/ Tf-idf Embeddings"
   ]
  },
  {
   "cell_type": "code",
   "execution_count": null,
   "metadata": {
    "ExecuteTime": {
     "start_time": "2020-10-14T19:59:39.054Z"
    }
   },
   "outputs": [],
   "source": [
    "#Cross Validating to find best value for hyperparameter alpha\n",
    "cv_nb_tfidf_bigram = GridSearchCV( tfidf_naiveB_pipeline, param_grid = param_dict_nb_tfidf, cv = 5, n_jobs = -1, iid = False )\n",
    "cv_nb_tfidf_bigram.fit(X_bigram_train, y_train)\n",
    "print('Best Parameter alpha:', cv_nb_tfidf_bigram.best_params_)\n",
    "print('Best Validation Score:', cv_nb_tfidf_bigram.best_score_)"
   ]
  },
  {
   "cell_type": "code",
   "execution_count": null,
   "metadata": {
    "ExecuteTime": {
     "start_time": "2020-10-14T19:59:39.061Z"
    }
   },
   "outputs": [],
   "source": [
    "test_score3 = cv_nb_tfidf_bigram.best_estimator_.score(X_bigram_test,y_test)  * 100\n",
    "print('Accuracy on holdout set: {} %'.format(test_score3) )"
   ]
  },
  {
   "cell_type": "markdown",
   "metadata": {},
   "source": [
    "#### Bi-grams w/ Bag of Words Embeddings"
   ]
  },
  {
   "cell_type": "code",
   "execution_count": null,
   "metadata": {
    "ExecuteTime": {
     "start_time": "2020-10-14T19:59:39.070Z"
    }
   },
   "outputs": [],
   "source": [
    "#Cross Validating to find best value for hyperparameter alpha\n",
    "cv_nb_countVect_bigram = GridSearchCV( nb, param_grid = param_dict_nb_countVect, cv = 5, n_jobs = -1, iid = False )\n",
    "cv_nb_countVect_bigram.fit(X_bigram_train,y_train)\n",
    "print('Best Parameter alpha:', cv_nb_countVect_bigram.best_params_)\n",
    "print('Best Validation Score:', cv_nb_countVect_bigram.best_score_)"
   ]
  },
  {
   "cell_type": "code",
   "execution_count": null,
   "metadata": {
    "ExecuteTime": {
     "start_time": "2020-10-14T19:59:39.077Z"
    }
   },
   "outputs": [],
   "source": [
    "test_score4 = cv_nb_countVect_bigram.best_estimator_.score(X_bigram_test,y_test)  * 100\n",
    "print('Accuracy on holdout set: {} %'.format(test_score4) )"
   ]
  },
  {
   "cell_type": "code",
   "execution_count": null,
   "metadata": {
    "ExecuteTime": {
     "start_time": "2020-10-14T19:59:39.084Z"
    }
   },
   "outputs": [],
   "source": [
    "naive_bayes_specs_dict = { 'Specifications':[ 'Unigram Tfidf' , 'Unigram CountVect', 'Bigram Tfidf', 'Bigram CountVect' ] ,\n",
    "                         'Accuracy_Score':[ test_score1, test_score2, test_score3, test_score4 ] }\n",
    "naive_bayes_specs_df = pd.DataFrame( naive_bayes_specs_dict )\n",
    "naive_bayes_specs_df"
   ]
  },
  {
   "cell_type": "markdown",
   "metadata": {},
   "source": [
    "With respect to our model's perfomance on unseen data, bigrams\n",
    "seems to outperform unigrams for both tfidf and BOW approach, with \n",
    "tfidf and bigrams having the highest accuracy on unseen data"
   ]
  },
  {
   "cell_type": "markdown",
   "metadata": {},
   "source": [
    "### Interpretible Machine Learning with Local Surrogate Models approach"
   ]
  },
  {
   "cell_type": "markdown",
   "metadata": {},
   "source": [
    "The purpose of this section to take the best performing model and see what it has learned from the data <br>\n",
    "and see how it explains a prediction it makes. For this purpose I will be using the <br>\n",
    "LIME(Local interpretable model agnostic explanations) library which takes a trained model <br>\n",
    "and fits a local surrogate model or a simpler interpretable model on the predictions of a <br>\n",
    "more complicated black box model with respect to the observation of interest in order to explain <br>\n",
    "why the model made the prediction it made. I will be pulling the following rated reviews <br>\n",
    "that are not present in the dataset the model was trained on:<br>\n",
    "* A 5-star review (Clearly Positive)\n",
    "* A 1-star review (Clearly Negative)\n",
    "* A 3-star review (somewhere in the middle) \n",
    "<br>\n",
    "\n",
    "I will make predicitons using our model on each of these reviews and use a LIME explainer to visualize why our <br>\n",
    "model made the prediction it made."
   ]
  },
  {
   "cell_type": "code",
   "execution_count": null,
   "metadata": {
    "ExecuteTime": {
     "start_time": "2020-10-14T19:59:39.095Z"
    }
   },
   "outputs": [],
   "source": [
    "#Importing necessary LIME classes and building a pipeline that vectorizes and makes predictions\n",
    "#using our best naive bayes model\n",
    "from lime.lime_text import LimeTextExplainer\n",
    "from sklearn.pipeline import make_pipeline\n",
    "explainer = LimeTextExplainer( class_names = ['1.0', '2.0', '3.0', '4.0', '5.0'] )\n",
    "exp_pipeline = make_pipeline( vectorizer_unigram_gensim, cv_nb_countVect_unigram.best_estimator_  )"
   ]
  },
  {
   "cell_type": "code",
   "execution_count": null,
   "metadata": {
    "ExecuteTime": {
     "start_time": "2020-10-14T19:59:39.103Z"
    }
   },
   "outputs": [],
   "source": [
    "df.head()"
   ]
  },
  {
   "cell_type": "code",
   "execution_count": null,
   "metadata": {
    "ExecuteTime": {
     "start_time": "2020-10-14T19:59:39.110Z"
    }
   },
   "outputs": [],
   "source": [
    "df.info()"
   ]
  },
  {
   "cell_type": "markdown",
   "metadata": {},
   "source": [
    "#### Predicting the overall score for a 5-star review from an unseen product"
   ]
  },
  {
   "attachments": {
    "image.png": {
     "image/png": "[encoded data removed]"
    }
   },
   "cell_type": "markdown",
   "metadata": {},
   "source": [
    "5-star review \n",
    "Ref: https://www.amazon.ca/product-reviews/B07XV4NHHN/ref=acr_dp_hist_5?ie=UTF8&filterByStar=five_star&reviewerType=all_reviews#reviews-filter-bar\n",
    "\n",
    "By William\n",
    "![image.png](attachment:image.png)"
   ]
  },
  {
   "cell_type": "code",
   "execution_count": null,
   "metadata": {
    "ExecuteTime": {
     "start_time": "2020-10-14T19:59:39.121Z"
    }
   },
   "outputs": [],
   "source": [
    "test_review_5star = \"Having an absolute blast, worked out about 1,200 calories today, I'll probably regret it tomorrow. You'll lose track of time having fun with this while working out so set timers :)\"\n",
    "\n",
    "print( 'Predicted rating', exp_pipeline.predict( [test_review_5star] ) )\n",
    "print( 'Probabilities for all classes', exp_pipeline.predict_proba( [test_review_5star] ) )"
   ]
  },
  {
   "cell_type": "code",
   "execution_count": null,
   "metadata": {
    "ExecuteTime": {
     "start_time": "2020-10-14T19:59:39.129Z"
    }
   },
   "outputs": [],
   "source": [
    "exp = explainer.explain_instance(test_review_5star, exp_pipeline.predict_proba, num_features=8, top_labels=2)\n",
    "exp.show_in_notebook(text=True)"
   ]
  },
  {
   "cell_type": "markdown",
   "metadata": {},
   "source": [
    "Our model made the correct prediction of score 5 <br>\n",
    "* The model predicted overall rating of 5 with 91% probability becuase from the training data <br> \n",
    "it learned to associate words such as 'gifts', 'podge', 'crafts', 'year' with 5-star <br>\n",
    "reviews.\n",
    "* The next class with the highest probability predicted by our model is 4 with 38% probability because <br>\n",
    "our model learned to associate words such as 'grandparents', 'little', 'stuck' and 'rainy' with 4-star reviews."
   ]
  },
  {
   "cell_type": "markdown",
   "metadata": {},
   "source": [
    "#### Predicting the overall score for a 1-star review from an unseen product"
   ]
  },
  {
   "attachments": {
    "image.png": {
     "image/png": "[encoded data removed]"
    }
   },
   "cell_type": "markdown",
   "metadata": {
    "ExecuteTime": {
     "end_time": "2020-08-29T16:02:24.795736Z",
     "start_time": "2020-08-29T16:02:24.722940Z"
    }
   },
   "source": [
    "1-star review\n",
    "Ref: https://www.amazon.ca/product-reviews/B07XV4NHHN/ref=acr_dp_hist_1?ie=UTF8&filterByStar=one_star&reviewerType=all_reviews#reviews-filter-bar\n",
    "By BLUE\n",
    "\n",
    "![image.png](attachment:image.png)"
   ]
  },
  {
   "cell_type": "code",
   "execution_count": null,
   "metadata": {
    "ExecuteTime": {
     "start_time": "2020-10-14T19:59:39.139Z"
    }
   },
   "outputs": [],
   "source": [
    "test_review_1star = \"I am very sad with this. I’m a big girl 190lbs and I got this to get into the habit of working out and enjoying it. The game is really really fun and actually challenging work out wise, the one time I used it it was a very through work out and the next day I was very sore. I’m giving it 1 star because the leg strap just wouldn’t hold on to my thigh. I am thicc and my legs are ample, so I tried tightening it to the point where it was very secure and then it would just roll off after one exercise. I tried it over work out pants, nothing. Over my skin and nothing. Over jeans, pants, everything and it just wouldn’t stay. So I’m very sad. I do understand the game is fairly new, so perhaps further along they’ll sell a bigger leg strap or a different sort of attachment, but for now it’s just not fat friendly.\"\n",
    "\n",
    "print( 'Predicted rating', exp_pipeline.predict( [test_review_1star] ) )\n",
    "print( 'Probabilities for all classes', exp_pipeline.predict_proba( [test_review_1star] ) )"
   ]
  },
  {
   "cell_type": "code",
   "execution_count": null,
   "metadata": {
    "ExecuteTime": {
     "start_time": "2020-10-14T19:59:39.148Z"
    }
   },
   "outputs": [],
   "source": [
    "exp = explainer.explain_instance(test_review_1star, exp_pipeline.predict_proba, num_features=6, top_labels=2)\n",
    "exp.show_in_notebook(text=True)"
   ]
  },
  {
   "cell_type": "markdown",
   "metadata": {},
   "source": [
    "Our model made a prediction of score 1 <br>\n",
    "* The model predicted overall rating of 2 with 20% probability from the training data <br> \n",
    "it learned to associate words such as 'cheaply', 'tile', 'fell', 'story' with 1-star <br>\n",
    "reviews.\n",
    "* The next class with the highest probability predicted by our model is 5 with 22% probability because <br>\n",
    "our model learned to associate words such as 'art' and 'class' with 5-star reviews."
   ]
  },
  {
   "cell_type": "markdown",
   "metadata": {},
   "source": [
    "#### Predicting the overall score for a 3-star review from an unseen review/product [FIX THIS]"
   ]
  },
  {
   "cell_type": "code",
   "execution_count": null,
   "metadata": {
    "ExecuteTime": {
     "start_time": "2020-10-14T19:59:39.161Z"
    }
   },
   "outputs": [],
   "source": [
    "test_review_3star = \"it does a decent job at getting your heartrate up, but most of the workouts are ineffective at actually targetting the muscle groups they say they are targetting, everything effectively ends up becoming a chest/tricep workout if it involves the ringcon regardless of what the screen tells you. The 'core' or 'ab' workouts are a joke as squeezing the ringcon into your stomach does nothing for your abs. furthermore the motion sensors in the joycons are often either too sensitive or not sensitive enough for whatever activity you're trying to do, making it more frustrating to try to get through it, than enjoyable.\"\n",
    "\n",
    "print( 'Predicted rating', exp_pipeline.predict( [test_review_3star] ) )\n",
    "print( 'Probabilities for all classes', exp_pipeline.predict_proba( [test_review_3star] ) )"
   ]
  },
  {
   "cell_type": "code",
   "execution_count": null,
   "metadata": {
    "ExecuteTime": {
     "start_time": "2020-10-14T19:59:39.167Z"
    }
   },
   "outputs": [],
   "source": [
    "exp = explainer.explain_instance(test_review_3star, exp_pipeline.predict_proba, num_features=8, top_labels=2)\n",
    "exp.show_in_notebook(text=True)"
   ]
  },
  {
   "cell_type": "markdown",
   "metadata": {},
   "source": [
    "Our model made the correct prediction of score 3 <br>\n",
    "* The model predicted overall rating of 3 with 62% probability becuase from the training data <br> \n",
    "it learned to associate words such as 'small', 'uneven', 'meant', 'expected', 'magnets', 'actually', 'children' with 3-star <br>\n",
    "reviews. The model also picked up some noise like 'Clancy', 'Cathy' and 'spies'.\n",
    "* The next class with the highest probability predicted by our model is 2 with 26% probability because <br>\n",
    "our model learned to associate words such as 'Depot', 'uneven', 'tile','tiles', 'underside' and 'stick' with 2-star reviews."
   ]
  },
  {
   "cell_type": "markdown",
   "metadata": {},
   "source": [
    "### Building a Theme-based recommender system with LDA (Latent Dirichlet Allocation) modelling"
   ]
  },
  {
   "cell_type": "markdown",
   "metadata": {},
   "source": [
    "The purpose of this section is to use LDA topic modelling to identify various topics in all 5-star reviews <br>\n",
    "and use them to build a theme based recommender system which given a particular user identifies topics in  <br>\n",
    "all 5-star reviews given by that user and based on those topics finds other titles the user has not seen   <br>\n",
    "for which the 5-star reviews given by other users contains similar topics and recommends them to that user. <br>\n",
    "Steps in building the system : <br>\n",
    "* Use Spacy and Gensim libraries to tokenize, lemmatize and clean all 5-star reviews and convert them to <br>\n",
    "bag of word embeddings.\n",
    "* Fit and LDA model on the word embeddings to identify 50 different topics \n",
    "* Use the fitted model to recommend titles to users based on the similar topics found in the titles they <br>\n",
    "gave 5-star reviews and other title's 5-star reviews that they have not seen."
   ]
  },
  {
   "cell_type": "code",
   "execution_count": null,
   "metadata": {
    "ExecuteTime": {
     "start_time": "2020-10-14T19:59:39.179Z"
    }
   },
   "outputs": [],
   "source": [
    "#Importing all necessary modules \n",
    "import numpy as np\n",
    "import os \n",
    "import codecs\n",
    "import en_core_web_sm\n",
    "from gensim.parsing.preprocessing import strip_non_alphanum, strip_numeric, strip_multiple_whitespaces, \\\n",
    "remove_stopwords, strip_short , split_alphanum, strip_punctuation\n",
    "from gensim.models import Phrases\n",
    "from gensim.models.phrases import Phraser \n",
    "from gensim.models.word2vec import LineSentence\n",
    "import itertools as it \n",
    "nlp = en_core_web_sm.load()"
   ]
  },
  {
   "cell_type": "code",
   "execution_count": null,
   "metadata": {
    "ExecuteTime": {
     "start_time": "2020-10-14T19:59:39.186Z"
    }
   },
   "outputs": [],
   "source": [
    "#Saving all 5-star review documents locally in a text file \n",
    "reviews_path = '/Users/anitatran/Desktop/amazon_review_project/reviews.txt'\n",
    "np.savetxt( reviews_path, df.review_text[df.overall == 5].values, fmt = '%s'  )"
   ]
  },
  {
   "cell_type": "code",
   "execution_count": null,
   "metadata": {
    "ExecuteTime": {
     "start_time": "2020-10-14T19:59:39.193Z"
    }
   },
   "outputs": [],
   "source": [
    "#Generator function that parses and yields each document in the text file  \n",
    "def gen_line_review(filename):\n",
    "    with codecs.open( filename, encoding = 'utf-8' ) as file:\n",
    "        for review in file:\n",
    "            review = split_alphanum(review)\n",
    "            yield review\n",
    "#Generator Function that parses each document in a file and tokenizes and lematizes using Spacy's pipeline and yields the tokenized document\n",
    "def gen_lemmatized_corpus( filename ):\n",
    "    for review in nlp.pipe( gen_line_review(filename), batch_size=10000, n_threads = 3 ):\n",
    "        yield u' '.join( [ token.lemma_ for token in review if not( token.is_space or token.is_punct ) ] )"
   ]
  },
  {
   "cell_type": "code",
   "execution_count": null,
   "metadata": {
    "ExecuteTime": {
     "start_time": "2020-10-14T19:59:39.200Z"
    }
   },
   "outputs": [],
   "source": [
    "#Reading each tokenized and lemmatized review document in unigram format and saving it a text file locally \n",
    "unigram_review_filepath = '/Users/anitatran/Desktop/amazon_review_project/unigram_reviews.txt'\n",
    "with codecs.open(unigram_review_filepath, 'w', encoding = 'utf-8') as file:\n",
    "    for review in gen_lemmatized_corpus( reviews_path ):\n",
    "        file.write(review + '\\n')\n",
    "#Reading the file as a gensim object\n",
    "unigram_reviews = LineSentence( unigram_review_filepath )"
   ]
  },
  {
   "cell_type": "code",
   "execution_count": null,
   "metadata": {
    "ExecuteTime": {
     "start_time": "2020-10-14T19:59:39.207Z"
    }
   },
   "outputs": [],
   "source": [
    "for unigram_review in it.islice( unigram_reviews, 960,965 ):\n",
    "    print( ' '.join(unigram_review) )\n",
    "    print('')"
   ]
  },
  {
   "cell_type": "markdown",
   "metadata": {},
   "source": [
    "All the tokens in each document are properly lemmatized and instead of lemmatizing pronouns, spacy simply replaces it with -PRON- which is of no <br>\n",
    "consequence to us since we're only interested in the underlying topics."
   ]
  },
  {
   "cell_type": "markdown",
   "metadata": {},
   "source": [
    "#### Using gensim's bigram phraser to capture prevelant bigrams in our documents "
   ]
  },
  {
   "cell_type": "code",
   "execution_count": null,
   "metadata": {
    "ExecuteTime": {
     "start_time": "2020-10-14T19:59:39.216Z"
    }
   },
   "outputs": [],
   "source": [
    "#Function that takes in gensim pre-processing functions as arguements and applies them to a tokenized document \n",
    "#for clean up\n",
    "def clean_up(text_list, **kargs):\n",
    "    text = ' '.join(text_list)\n",
    "    for func in kargs:\n",
    "        text = kargs[func](text)\n",
    "    return text.strip().split()\n",
    "\n",
    "#Initializing the bigram phraser and it's wrapper \n",
    "bigram_model = Phrases(unigram_reviews)\n",
    "bigram_phraser = Phraser(bigram_model)\n",
    "\n",
    "bigram_review_filepath = '/Users/anitatran/Desktop/amazon_review_project/bigram_reviews.txt'\n",
    "#Parsing each lemmatized document through a clean up function and then passing it through the bigram phraser and saving the results locally\n",
    "with codecs.open(bigram_review_filepath, 'w', encoding='utf_8') as file:\n",
    "    for unigram_review in unigram_reviews:\n",
    "        unigram_review = clean_up( unigram_review, func1 = strip_non_alphanum, \n",
    "                                  func2 = strip_numeric, func3 = strip_multiple_whitespaces, func4 = strip_short )\n",
    "        bigram_review = u' '.join( bigram_phraser[unigram_review] )   \n",
    "        file.write(bigram_review + '\\n')\n",
    "\n",
    "\n",
    "bigram_reviews = LineSentence(bigram_review_filepath)"
   ]
  },
  {
   "cell_type": "code",
   "execution_count": null,
   "metadata": {
    "ExecuteTime": {
     "start_time": "2020-10-14T19:59:39.223Z"
    }
   },
   "outputs": [],
   "source": [
    "for bigram_review in it.islice( bigram_reviews, 960,965 ):\n",
    "    print( ' '.join(bigram_review) )\n",
    "    print('')"
   ]
  },
  {
   "cell_type": "markdown",
   "metadata": {},
   "source": [
    "The bigram phraser was able to capture certain bigrams such as 'release_date','single_player' in our lemmatized documents."
   ]
  },
  {
   "cell_type": "code",
   "execution_count": null,
   "metadata": {
    "ExecuteTime": {
     "start_time": "2020-10-14T19:59:39.231Z"
    }
   },
   "outputs": [],
   "source": [
    "#Further preprocessing the bigram embeddings by removing stopwords, extra space and an extremely prevalent noise word \"quot\"\n",
    "preprocessed_reviews_filepath = '/Users/anitatran/Desktop/amazon_review_project/preprocessed_reviews.txt'\n",
    "with codecs.open( preprocessed_reviews_filepath, 'w', encoding = 'utf-8' ) as file:\n",
    "    for bigram_review in bigram_reviews:\n",
    "        bigram_review = clean_up( bigram_review, func = remove_stopwords )\n",
    "        preprocessed_review = u' '.join( [ word for word in bigram_review if not( word == 'PRON' or word == '\\'s' or word =='quot' ) ] )\n",
    "        file.write( preprocessed_review + '\\n' )"
   ]
  },
  {
   "cell_type": "code",
   "execution_count": null,
   "metadata": {
    "ExecuteTime": {
     "start_time": "2020-10-14T19:59:39.238Z"
    }
   },
   "outputs": [],
   "source": [
    "print('Raw Review Text:\\n')\n",
    "for review in it.islice( gen_line_review(reviews_path), 1554, 1555 ):\n",
    "    print(review)\n",
    "    \n",
    "print('-----------\\n')\n",
    "print('Pre-processed:\\n')\n",
    "\n",
    "with codecs.open(preprocessed_reviews_filepath, encoding='utf_8') as file:\n",
    "    for review in it.islice(file, 1554, 1555):\n",
    "        print(review)   "
   ]
  },
  {
   "cell_type": "markdown",
   "metadata": {},
   "source": [
    "Through the above functions and pipelines we were able to severly clean and  prune each review down to important key words ready for topic modelling like the example above. "
   ]
  },
  {
   "cell_type": "code",
   "execution_count": null,
   "metadata": {
    "ExecuteTime": {
     "start_time": "2020-10-14T19:59:39.251Z"
    }
   },
   "outputs": [],
   "source": [
    "!pip install pyLDAvis"
   ]
  },
  {
   "cell_type": "code",
   "execution_count": null,
   "metadata": {
    "ExecuteTime": {
     "start_time": "2020-10-14T19:59:39.258Z"
    }
   },
   "outputs": [],
   "source": [
    "#Importing libraries for topic modelling \n",
    "from gensim.corpora import Dictionary, MmCorpus\n",
    "from gensim.models.ldamulticore import LdaMulticore\n",
    "import pyLDAvis, pyLDAvis.gensim\n",
    "import warnings"
   ]
  },
  {
   "cell_type": "code",
   "execution_count": null,
   "metadata": {
    "ExecuteTime": {
     "start_time": "2020-10-14T19:59:39.271Z"
    }
   },
   "outputs": [],
   "source": [
    "review_dict_filepath = '/Users/anitatran/Desktop/amazon_review_project/preprocessed_reviews_dict.txt'\n",
    "preprocessed_reviews = LineSentence( preprocessed_reviews_filepath )\n",
    "#Building the vocabulary from our reviews corpora to be used to convert each document to bag of words embedding \n",
    "review_dict = Dictionary( preprocessed_reviews )\n",
    "#Filtering out extreme values from the corpora \n",
    "review_dict.filter_extremes( no_below = 15, no_above = 0.4 )\n",
    "review_dict.compactify()\n",
    "#Saving the dictionary locally \n",
    "review_dict.save( review_dict_filepath )"
   ]
  },
  {
   "cell_type": "code",
   "execution_count": null,
   "metadata": {
    "ExecuteTime": {
     "start_time": "2020-10-14T19:59:39.278Z"
    }
   },
   "outputs": [],
   "source": [
    "#Generator function that parses a file containing documents and converts each document to a \n",
    "#bag of words embedding \n",
    "def generate_bow(file_path):\n",
    "    for review in LineSentence(file_path):\n",
    "        yield review_dict.doc2bow(review)\n",
    "\n",
    "review_dict = Dictionary.load( review_dict_filepath )\n",
    "\n",
    "reviews_bow_filepath = '/Users/anitatran/Desktop/amazon_review_project/reviews_bow.txt'\n",
    "\n",
    "MmCorpus.serialize( reviews_bow_filepath, generate_bow( preprocessed_reviews_filepath ) )"
   ]
  },
  {
   "cell_type": "code",
   "execution_count": null,
   "metadata": {
    "ExecuteTime": {
     "start_time": "2020-10-14T19:59:39.284Z"
    }
   },
   "outputs": [],
   "source": [
    "bow_corpus = MmCorpus(reviews_bow_filepath)"
   ]
  },
  {
   "cell_type": "code",
   "execution_count": null,
   "metadata": {
    "ExecuteTime": {
     "start_time": "2020-10-14T19:59:39.291Z"
    }
   },
   "outputs": [],
   "source": [
    "#Fitting the LDA model on our bag of word embeddings \n",
    "with warnings.catch_warnings():\n",
    "    warnings.simplefilter('ignore')\n",
    "    lda = LdaMulticore( bow_corpus, num_topics = 50, id2word = review_dict, workers = 3 )"
   ]
  },
  {
   "cell_type": "code",
   "execution_count": null,
   "metadata": {
    "ExecuteTime": {
     "start_time": "2020-10-14T19:59:39.299Z"
    }
   },
   "outputs": [],
   "source": [
    "#Visualizing each topic and it's most commonly occuring frequencies \n",
    "for idx, topic in lda.print_topics(-1):\n",
    "    print('Topic: {} \\nWords: {}\\n'.format(idx, topic))"
   ]
  },
  {
   "cell_type": "markdown",
   "metadata": {},
   "source": [
    "Some of the themes identified by our model are very easy to label such as topic 1 which contains frequencies such as \"play\",\"Mario\", \"kid\" and is clearly about Mario/nostalgic games.\n",
    "\n",
    "Topic 15 that contains frequencies like \"multiplayer\",\"Xbox\",\"Halo\",\"console\" is clearly about console games.\n",
    "\n",
    "Some topics such as topic 24 which contains frequencies such as \"like\",\"good\",\"great\",\"engine\" it is not so clear what they are about."
   ]
  },
  {
   "cell_type": "markdown",
   "metadata": {},
   "source": [
    "#### Visualizing the topics and the distances between them using the pyLDAvis library"
   ]
  },
  {
   "cell_type": "code",
   "execution_count": null,
   "metadata": {
    "ExecuteTime": {
     "start_time": "2020-10-14T19:59:39.308Z"
    }
   },
   "outputs": [],
   "source": [
    "LDAvis_prep = pyLDAvis.gensim.prepare( lda, bow_corpus, review_dict )\n",
    "pyLDAvis.display( LDAvis_prep )"
   ]
  },
  {
   "cell_type": "code",
   "execution_count": null,
   "metadata": {},
   "outputs": [],
   "source": []
  },
  {
   "cell_type": "markdown",
   "metadata": {},
   "source": [
    "#### Building the recommender system "
   ]
  },
  {
   "cell_type": "code",
   "execution_count": null,
   "metadata": {
    "ExecuteTime": {
     "start_time": "2020-10-14T19:59:39.321Z"
    }
   },
   "outputs": [],
   "source": [
    "#Function that works as a pipeline in applying all the steps seen above to a raw review to convert it \n",
    "#to a clean bag of words embedding \n",
    "def _get_topics(review):\n",
    "    \n",
    "    spacy_tokenized_review = nlp( review )\n",
    "    \n",
    "    unigram_lemmatized_review = [  token.lemma_ for token in spacy_tokenized_review if not( token.is_space or token.is_punct ) ] \n",
    "    \n",
    "    cleaned_lemmatized_unigram_review = clean_up( unigram_lemmatized_review, func1 = strip_non_alphanum, \n",
    "                                  func2 = strip_numeric, func3 = strip_multiple_whitespaces, func4 = strip_short )\n",
    "    \n",
    "    bigram_review =  bigram_phraser[cleaned_lemmatized_unigram_review]\n",
    "    \n",
    "    cleaned_bigram_review = clean_up( bigram_review, func = remove_stopwords )\n",
    "    \n",
    "    pre_processed_review = [ word for word in cleaned_bigram_review if not( word == 'PRON' or word == '\\'s' or word =='quot' ) ]\n",
    "    \n",
    "    bow_review = review_dict.doc2bow(  pre_processed_review  )\n",
    "    \n",
    "    lda_review = sorted( lda[bow_review], key = lambda t: t[1], reverse = True)\n",
    "    \n",
    "    return lda_review\n",
    "\n",
    "#Displays topics identified in a given review \n",
    "def display_topics(review, min_topic_freq = 0.1):\n",
    "    for topic_num, freq in _get_topics(review):\n",
    "        if freq < min_topic_freq:\n",
    "            break\n",
    "        print('Topic Number: {:<10} {:.3f}'.format( topic_num, freq ) )"
   ]
  },
  {
   "cell_type": "code",
   "execution_count": null,
   "metadata": {
    "ExecuteTime": {
     "start_time": "2020-10-14T19:59:39.326Z"
    }
   },
   "outputs": [],
   "source": [
    "five_star_review_1 = df[ df.overall == 5 ].review_text[89456]\n",
    "five_star_review_1"
   ]
  },
  {
   "cell_type": "code",
   "execution_count": null,
   "metadata": {
    "ExecuteTime": {
     "start_time": "2020-10-14T19:59:39.333Z"
    }
   },
   "outputs": [],
   "source": [
    "display_topics(five_star_review_1)"
   ]
  },
  {
   "cell_type": "code",
   "execution_count": null,
   "metadata": {
    "ExecuteTime": {
     "start_time": "2020-10-14T19:59:39.340Z"
    }
   },
   "outputs": [],
   "source": [
    "df.tail()"
   ]
  },
  {
   "cell_type": "code",
   "execution_count": null,
   "metadata": {
    "ExecuteTime": {
     "start_time": "2020-10-14T19:59:39.351Z"
    }
   },
   "outputs": [],
   "source": [
    "five_star_review_2 = df[ df.overall == 5 ].review_text[23758]\n",
    "five_star_review_2"
   ]
  },
  {
   "cell_type": "code",
   "execution_count": null,
   "metadata": {
    "ExecuteTime": {
     "start_time": "2020-10-14T19:59:39.362Z"
    }
   },
   "outputs": [],
   "source": [
    "display_topics(five_star_review_2)"
   ]
  },
  {
   "cell_type": "code",
   "execution_count": null,
   "metadata": {
    "ExecuteTime": {
     "start_time": "2020-10-14T19:59:39.369Z"
    }
   },
   "outputs": [],
   "source": [
    "from collections import Counter\n",
    "#Function that pre-processed and extracts all the topics in a given raw review \n",
    "def _extract_topics(review):\n",
    "    return [ t[0] for t in _get_topics(review) if t[1] > 0.1 ]\n",
    "#Given a user, parses all the reviews given by that user and returns the 3 most prevalent topics in their reviews\n",
    "def _get_user_topics(user_id):\n",
    "    topics = []\n",
    "    user_reviews = df[(df.reviewerID == user_id) & (df.overall == 5) ].review_text\n",
    "    for review in user_reviews:\n",
    "        topics.append( _extract_topics(review) )\n",
    "    counter = Counter( [ topic_nums for inner_list in topics for topic_nums in inner_list ] )\n",
    "    return [ t[0] for t in counter.most_common(3) ]\n",
    "#Given a user returns a list of titles based on all the favorable reviews left by the user \n",
    "def recommend_titles(user_id):\n",
    "    titles = []\n",
    "    target_topics = _get_user_topics(user_id)\n",
    "    print('Target Topics:' , target_topics)\n",
    "    for index , row in df[ df.overall == 5 ].iterrows():\n",
    "        topics = _extract_topics(row.review_text)\n",
    "        for topic in topics:\n",
    "            if topic in target_topics and row.title not in titles:\n",
    "                titles.append( row.title )\n",
    "    return titles     "
   ]
  },
  {
   "cell_type": "code",
   "execution_count": null,
   "metadata": {
    "ExecuteTime": {
     "start_time": "2020-10-14T19:59:39.376Z"
    }
   },
   "outputs": [],
   "source": [
    "# sample user, takes a while !!\n",
    "user = 'A3PX0TDUOI4OWS'\n",
    "titles = recommend_titles(user)\n",
    "print('Total games found:', len(titles))"
   ]
  },
  {
   "cell_type": "code",
   "execution_count": null,
   "metadata": {
    "ExecuteTime": {
     "start_time": "2020-10-14T19:59:39.383Z"
    }
   },
   "outputs": [],
   "source": [
    "print('Titles rated highly by this user:\\n')\n",
    "print( df[ (df.overall == 5) & (df.reviewerID == user) ].title )"
   ]
  },
  {
   "cell_type": "code",
   "execution_count": null,
   "metadata": {
    "ExecuteTime": {
     "start_time": "2020-10-14T19:59:39.389Z"
    }
   },
   "outputs": [],
   "source": [
    "print('Subset of games recommended by our LDA based recommender system:\\n')\n",
    "print(titles[264])\n",
    "print(titles[161])\n",
    "print(titles[6176])\n",
    "print(titles[9156])"
   ]
  },
  {
   "cell_type": "code",
   "execution_count": null,
   "metadata": {
    "ExecuteTime": {
     "start_time": "2020-10-14T19:59:39.396Z"
    }
   },
   "outputs": [],
   "source": [
    "df.head()"
   ]
  },
  {
   "cell_type": "code",
   "execution_count": null,
   "metadata": {
    "ExecuteTime": {
     "start_time": "2020-10-14T19:59:39.403Z"
    }
   },
   "outputs": [],
   "source": [
    "df.head()"
   ]
  },
  {
   "cell_type": "code",
   "execution_count": null,
   "metadata": {},
   "outputs": [],
   "source": []
  },
  {
   "cell_type": "markdown",
   "metadata": {},
   "source": [
    "The theme based recommender system was succesfuly able to parse, pre-process , idetify themes and recommend titles <br>\n",
    "based on favorable reviews given a user. However the model lacked certain finesse and fine tuning and also ended <br>\n",
    "up being computationally ineffcient and would not be optimal to use when recommendations for multiple users <br>\n",
    "have to be calculated and returned in real time. <br>\n",
    "As a result a different approach altogether would be needed to build a more effcient recommender system that supports <br>\n",
    "faster computation and more fine tuned results. To achieve that I will use a collaborative filtering based recommendation <br>\n",
    "system using overall review scores in the next section."
   ]
  },
  {
   "cell_type": "markdown",
   "metadata": {},
   "source": [
    "### Collaborative Filtering Recommendation System with Matrix Factorization (SVD)\n",
    "For this recommendation system we're not going to need the reviews but simply the overall ratings given by each user to <br>\n",
    "different titles. I'm going to use a matrix where the rows are each unique title and the columns are each unique user and then <br>\n",
    "apply singular value decomposition to reduce dimensionality by extracting the latent factors which would help us better model the<br>\n",
    "similarity between users and items and create a recommendation system that is computationally efficient and faster once the matrix <br>\n",
    "has been decomposed to it's latent space with n dimensions.<br>\n",
    "This approach towards building a recommendation system is pretty popular and is called a model based Collabortaive filtering system.<br>\n",
    "In layman's term the idea behind this model is that the preferences and attitudes of a user can be determined by a small number of <br>\n",
    "factors and we'll decompose our utility matrix into these factors and then model the similarity between these titles based on the users <br>\n",
    "who rated them and recommend them to other users with similar preferences."
   ]
  },
  {
   "cell_type": "code",
   "execution_count": 6,
   "metadata": {
    "ExecuteTime": {
     "end_time": "2020-10-14T20:04:15.237752Z",
     "start_time": "2020-10-14T20:04:15.019219Z"
    }
   },
   "outputs": [
    {
     "data": {
      "text/html": [
       "<div>\n",
       "<style scoped>\n",
       "    .dataframe tbody tr th:only-of-type {\n",
       "        vertical-align: middle;\n",
       "    }\n",
       "\n",
       "    .dataframe tbody tr th {\n",
       "        vertical-align: top;\n",
       "    }\n",
       "\n",
       "    .dataframe thead th {\n",
       "        text-align: right;\n",
       "    }\n",
       "</style>\n",
       "<table border=\"1\" class=\"dataframe\">\n",
       "  <thead>\n",
       "    <tr style=\"text-align: right;\">\n",
       "      <th></th>\n",
       "      <th>Unnamed: 0</th>\n",
       "      <th>overall</th>\n",
       "      <th>verified</th>\n",
       "      <th>reviewTime</th>\n",
       "      <th>reviewerID</th>\n",
       "      <th>asin</th>\n",
       "      <th>reviewerName</th>\n",
       "      <th>reviewText</th>\n",
       "      <th>summary</th>\n",
       "      <th>unixReviewTime</th>\n",
       "      <th>...</th>\n",
       "      <th>tech2</th>\n",
       "      <th>brand</th>\n",
       "      <th>feature</th>\n",
       "      <th>rank</th>\n",
       "      <th>also_view</th>\n",
       "      <th>main_cat</th>\n",
       "      <th>similar_item</th>\n",
       "      <th>date</th>\n",
       "      <th>price</th>\n",
       "      <th>details</th>\n",
       "    </tr>\n",
       "  </thead>\n",
       "  <tbody>\n",
       "    <tr>\n",
       "      <th>0</th>\n",
       "      <td>0</td>\n",
       "      <td>1.0</td>\n",
       "      <td>True</td>\n",
       "      <td>06 9, 2014</td>\n",
       "      <td>A21ROB4YDOZA5P</td>\n",
       "      <td>0439381673</td>\n",
       "      <td>Mary M. Clark</td>\n",
       "      <td>I used to play this game years ago and loved i...</td>\n",
       "      <td>Did not like this</td>\n",
       "      <td>1402272000</td>\n",
       "      <td>...</td>\n",
       "      <td>NaN</td>\n",
       "      <td>by\\n    \\n    Learning Company</td>\n",
       "      <td>['If you have not opened the item, you can ret...</td>\n",
       "      <td>['&gt;#5,927 in Video Games (See Top 100 in Video...</td>\n",
       "      <td>['B00005LBVS', 'B002CMU748', 'B01JF4CHWK', 'B0...</td>\n",
       "      <td>Video Games</td>\n",
       "      <td>NaN</td>\n",
       "      <td>NaN</td>\n",
       "      <td>\\n\\t\\t\\t\\t\\t\\t\\t\\t\\t\\t\\t\\t&lt;span class=\"vertica...</td>\n",
       "      <td>NaN</td>\n",
       "    </tr>\n",
       "    <tr>\n",
       "      <th>1</th>\n",
       "      <td>1</td>\n",
       "      <td>3.0</td>\n",
       "      <td>True</td>\n",
       "      <td>05 10, 2014</td>\n",
       "      <td>A3TNZ2Q5E7HTHD</td>\n",
       "      <td>0439381673</td>\n",
       "      <td>Sarabatya</td>\n",
       "      <td>The game itself worked great but the story lin...</td>\n",
       "      <td>Almost Perfect</td>\n",
       "      <td>1399680000</td>\n",
       "      <td>...</td>\n",
       "      <td>NaN</td>\n",
       "      <td>by\\n    \\n    Learning Company</td>\n",
       "      <td>['If you have not opened the item, you can ret...</td>\n",
       "      <td>['&gt;#5,927 in Video Games (See Top 100 in Video...</td>\n",
       "      <td>['B00005LBVS', 'B002CMU748', 'B01JF4CHWK', 'B0...</td>\n",
       "      <td>Video Games</td>\n",
       "      <td>NaN</td>\n",
       "      <td>NaN</td>\n",
       "      <td>\\n\\t\\t\\t\\t\\t\\t\\t\\t\\t\\t\\t\\t&lt;span class=\"vertica...</td>\n",
       "      <td>NaN</td>\n",
       "    </tr>\n",
       "    <tr>\n",
       "      <th>2</th>\n",
       "      <td>2</td>\n",
       "      <td>4.0</td>\n",
       "      <td>True</td>\n",
       "      <td>02 7, 2014</td>\n",
       "      <td>A1OKRM3QFEATQO</td>\n",
       "      <td>0439381673</td>\n",
       "      <td>Amazon Customer</td>\n",
       "      <td>I had to learn the hard way after ordering thi...</td>\n",
       "      <td>DOES NOT WORK WITH MAC OS unless it is 10.3 or...</td>\n",
       "      <td>1391731200</td>\n",
       "      <td>...</td>\n",
       "      <td>NaN</td>\n",
       "      <td>by\\n    \\n    Learning Company</td>\n",
       "      <td>['If you have not opened the item, you can ret...</td>\n",
       "      <td>['&gt;#5,927 in Video Games (See Top 100 in Video...</td>\n",
       "      <td>['B00005LBVS', 'B002CMU748', 'B01JF4CHWK', 'B0...</td>\n",
       "      <td>Video Games</td>\n",
       "      <td>NaN</td>\n",
       "      <td>NaN</td>\n",
       "      <td>\\n\\t\\t\\t\\t\\t\\t\\t\\t\\t\\t\\t\\t&lt;span class=\"vertica...</td>\n",
       "      <td>NaN</td>\n",
       "    </tr>\n",
       "    <tr>\n",
       "      <th>3</th>\n",
       "      <td>3</td>\n",
       "      <td>1.0</td>\n",
       "      <td>True</td>\n",
       "      <td>02 7, 2014</td>\n",
       "      <td>A2XO1JFCNEYV3T</td>\n",
       "      <td>0439381673</td>\n",
       "      <td>ColoradoPartyof5</td>\n",
       "      <td>The product description should state this clea...</td>\n",
       "      <td>does not work on Mac OSX</td>\n",
       "      <td>1391731200</td>\n",
       "      <td>...</td>\n",
       "      <td>NaN</td>\n",
       "      <td>by\\n    \\n    Learning Company</td>\n",
       "      <td>['If you have not opened the item, you can ret...</td>\n",
       "      <td>['&gt;#5,927 in Video Games (See Top 100 in Video...</td>\n",
       "      <td>['B00005LBVS', 'B002CMU748', 'B01JF4CHWK', 'B0...</td>\n",
       "      <td>Video Games</td>\n",
       "      <td>NaN</td>\n",
       "      <td>NaN</td>\n",
       "      <td>\\n\\t\\t\\t\\t\\t\\t\\t\\t\\t\\t\\t\\t&lt;span class=\"vertica...</td>\n",
       "      <td>NaN</td>\n",
       "    </tr>\n",
       "    <tr>\n",
       "      <th>4</th>\n",
       "      <td>4</td>\n",
       "      <td>4.0</td>\n",
       "      <td>True</td>\n",
       "      <td>01 16, 2014</td>\n",
       "      <td>A19WLPIRHD15TH</td>\n",
       "      <td>0439381673</td>\n",
       "      <td>Karen Robinson</td>\n",
       "      <td>I would recommend this learning game for anyon...</td>\n",
       "      <td>Roughing it</td>\n",
       "      <td>1389830400</td>\n",
       "      <td>...</td>\n",
       "      <td>NaN</td>\n",
       "      <td>by\\n    \\n    Learning Company</td>\n",
       "      <td>['If you have not opened the item, you can ret...</td>\n",
       "      <td>['&gt;#5,927 in Video Games (See Top 100 in Video...</td>\n",
       "      <td>['B00005LBVS', 'B002CMU748', 'B01JF4CHWK', 'B0...</td>\n",
       "      <td>Video Games</td>\n",
       "      <td>NaN</td>\n",
       "      <td>NaN</td>\n",
       "      <td>\\n\\t\\t\\t\\t\\t\\t\\t\\t\\t\\t\\t\\t&lt;span class=\"vertica...</td>\n",
       "      <td>NaN</td>\n",
       "    </tr>\n",
       "  </tbody>\n",
       "</table>\n",
       "<p>5 rows × 30 columns</p>\n",
       "</div>"
      ],
      "text/plain": [
       "   Unnamed: 0  overall  verified   reviewTime      reviewerID        asin  \\\n",
       "0           0      1.0      True   06 9, 2014  A21ROB4YDOZA5P  0439381673   \n",
       "1           1      3.0      True  05 10, 2014  A3TNZ2Q5E7HTHD  0439381673   \n",
       "2           2      4.0      True   02 7, 2014  A1OKRM3QFEATQO  0439381673   \n",
       "3           3      1.0      True   02 7, 2014  A2XO1JFCNEYV3T  0439381673   \n",
       "4           4      4.0      True  01 16, 2014  A19WLPIRHD15TH  0439381673   \n",
       "\n",
       "       reviewerName                                         reviewText  \\\n",
       "0     Mary M. Clark  I used to play this game years ago and loved i...   \n",
       "1         Sarabatya  The game itself worked great but the story lin...   \n",
       "2   Amazon Customer  I had to learn the hard way after ordering thi...   \n",
       "3  ColoradoPartyof5  The product description should state this clea...   \n",
       "4    Karen Robinson  I would recommend this learning game for anyon...   \n",
       "\n",
       "                                             summary  unixReviewTime  ...  \\\n",
       "0                                  Did not like this      1402272000  ...   \n",
       "1                                     Almost Perfect      1399680000  ...   \n",
       "2  DOES NOT WORK WITH MAC OS unless it is 10.3 or...      1391731200  ...   \n",
       "3                           does not work on Mac OSX      1391731200  ...   \n",
       "4                                        Roughing it      1389830400  ...   \n",
       "\n",
       "  tech2                           brand  \\\n",
       "0   NaN  by\\n    \\n    Learning Company   \n",
       "1   NaN  by\\n    \\n    Learning Company   \n",
       "2   NaN  by\\n    \\n    Learning Company   \n",
       "3   NaN  by\\n    \\n    Learning Company   \n",
       "4   NaN  by\\n    \\n    Learning Company   \n",
       "\n",
       "                                             feature  \\\n",
       "0  ['If you have not opened the item, you can ret...   \n",
       "1  ['If you have not opened the item, you can ret...   \n",
       "2  ['If you have not opened the item, you can ret...   \n",
       "3  ['If you have not opened the item, you can ret...   \n",
       "4  ['If you have not opened the item, you can ret...   \n",
       "\n",
       "                                                rank  \\\n",
       "0  ['>#5,927 in Video Games (See Top 100 in Video...   \n",
       "1  ['>#5,927 in Video Games (See Top 100 in Video...   \n",
       "2  ['>#5,927 in Video Games (See Top 100 in Video...   \n",
       "3  ['>#5,927 in Video Games (See Top 100 in Video...   \n",
       "4  ['>#5,927 in Video Games (See Top 100 in Video...   \n",
       "\n",
       "                                           also_view     main_cat  \\\n",
       "0  ['B00005LBVS', 'B002CMU748', 'B01JF4CHWK', 'B0...  Video Games   \n",
       "1  ['B00005LBVS', 'B002CMU748', 'B01JF4CHWK', 'B0...  Video Games   \n",
       "2  ['B00005LBVS', 'B002CMU748', 'B01JF4CHWK', 'B0...  Video Games   \n",
       "3  ['B00005LBVS', 'B002CMU748', 'B01JF4CHWK', 'B0...  Video Games   \n",
       "4  ['B00005LBVS', 'B002CMU748', 'B01JF4CHWK', 'B0...  Video Games   \n",
       "\n",
       "   similar_item date                                              price  \\\n",
       "0           NaN  NaN  \\n\\t\\t\\t\\t\\t\\t\\t\\t\\t\\t\\t\\t<span class=\"vertica...   \n",
       "1           NaN  NaN  \\n\\t\\t\\t\\t\\t\\t\\t\\t\\t\\t\\t\\t<span class=\"vertica...   \n",
       "2           NaN  NaN  \\n\\t\\t\\t\\t\\t\\t\\t\\t\\t\\t\\t\\t<span class=\"vertica...   \n",
       "3           NaN  NaN  \\n\\t\\t\\t\\t\\t\\t\\t\\t\\t\\t\\t\\t<span class=\"vertica...   \n",
       "4           NaN  NaN  \\n\\t\\t\\t\\t\\t\\t\\t\\t\\t\\t\\t\\t<span class=\"vertica...   \n",
       "\n",
       "  details  \n",
       "0     NaN  \n",
       "1     NaN  \n",
       "2     NaN  \n",
       "3     NaN  \n",
       "4     NaN  \n",
       "\n",
       "[5 rows x 30 columns]"
      ]
     },
     "execution_count": 6,
     "metadata": {},
     "output_type": "execute_result"
    }
   ],
   "source": [
    "df.head()"
   ]
  },
  {
   "cell_type": "code",
   "execution_count": 8,
   "metadata": {
    "ExecuteTime": {
     "end_time": "2020-10-14T20:05:57.665455Z",
     "start_time": "2020-10-14T20:05:57.493491Z"
    }
   },
   "outputs": [],
   "source": [
    "#Extracting the features needed to build the utility matrix \n",
    "user_rating_title_df = df[['reviewerID', 'title', 'overall']]"
   ]
  },
  {
   "cell_type": "code",
   "execution_count": 9,
   "metadata": {
    "ExecuteTime": {
     "end_time": "2020-10-14T20:05:59.471196Z",
     "start_time": "2020-10-14T20:05:59.457193Z"
    }
   },
   "outputs": [
    {
     "data": {
      "text/html": [
       "<div>\n",
       "<style scoped>\n",
       "    .dataframe tbody tr th:only-of-type {\n",
       "        vertical-align: middle;\n",
       "    }\n",
       "\n",
       "    .dataframe tbody tr th {\n",
       "        vertical-align: top;\n",
       "    }\n",
       "\n",
       "    .dataframe thead th {\n",
       "        text-align: right;\n",
       "    }\n",
       "</style>\n",
       "<table border=\"1\" class=\"dataframe\">\n",
       "  <thead>\n",
       "    <tr style=\"text-align: right;\">\n",
       "      <th></th>\n",
       "      <th>reviewerID</th>\n",
       "      <th>title</th>\n",
       "      <th>overall</th>\n",
       "    </tr>\n",
       "  </thead>\n",
       "  <tbody>\n",
       "    <tr>\n",
       "      <th>0</th>\n",
       "      <td>A21ROB4YDOZA5P</td>\n",
       "      <td>BRAND NEW Learning Company Oregon Trail 5th Ed...</td>\n",
       "      <td>1.0</td>\n",
       "    </tr>\n",
       "    <tr>\n",
       "      <th>1</th>\n",
       "      <td>A3TNZ2Q5E7HTHD</td>\n",
       "      <td>BRAND NEW Learning Company Oregon Trail 5th Ed...</td>\n",
       "      <td>3.0</td>\n",
       "    </tr>\n",
       "    <tr>\n",
       "      <th>2</th>\n",
       "      <td>A1OKRM3QFEATQO</td>\n",
       "      <td>BRAND NEW Learning Company Oregon Trail 5th Ed...</td>\n",
       "      <td>4.0</td>\n",
       "    </tr>\n",
       "    <tr>\n",
       "      <th>3</th>\n",
       "      <td>A2XO1JFCNEYV3T</td>\n",
       "      <td>BRAND NEW Learning Company Oregon Trail 5th Ed...</td>\n",
       "      <td>1.0</td>\n",
       "    </tr>\n",
       "    <tr>\n",
       "      <th>4</th>\n",
       "      <td>A19WLPIRHD15TH</td>\n",
       "      <td>BRAND NEW Learning Company Oregon Trail 5th Ed...</td>\n",
       "      <td>4.0</td>\n",
       "    </tr>\n",
       "  </tbody>\n",
       "</table>\n",
       "</div>"
      ],
      "text/plain": [
       "       reviewerID                                              title  overall\n",
       "0  A21ROB4YDOZA5P  BRAND NEW Learning Company Oregon Trail 5th Ed...      1.0\n",
       "1  A3TNZ2Q5E7HTHD  BRAND NEW Learning Company Oregon Trail 5th Ed...      3.0\n",
       "2  A1OKRM3QFEATQO  BRAND NEW Learning Company Oregon Trail 5th Ed...      4.0\n",
       "3  A2XO1JFCNEYV3T  BRAND NEW Learning Company Oregon Trail 5th Ed...      1.0\n",
       "4  A19WLPIRHD15TH  BRAND NEW Learning Company Oregon Trail 5th Ed...      4.0"
      ]
     },
     "execution_count": 9,
     "metadata": {},
     "output_type": "execute_result"
    }
   ],
   "source": [
    "user_rating_title_df.head()"
   ]
  },
  {
   "cell_type": "code",
   "execution_count": null,
   "metadata": {
    "ExecuteTime": {
     "start_time": "2020-10-14T19:59:39.445Z"
    }
   },
   "outputs": [],
   "source": [
    "print( 'Total unique video games in our dataset: {}'\\\n",
    "      .format( len(user_rating_title_df.title.unique() ) ) )\n",
    "\n",
    "print('Total unique reviewers in our dataset: {}'\\\n",
    "     .format( len( user_rating_title_df.reviewerID.unique() ) ) )\n",
    "\n",
    "print('Total reviews in our dataset: {}'.format( len(user_rating_title_df) ) )"
   ]
  },
  {
   "cell_type": "markdown",
   "metadata": {},
   "source": [
    "Let's build our utility matrix"
   ]
  },
  {
   "cell_type": "code",
   "execution_count": null,
   "metadata": {
    "ExecuteTime": {
     "start_time": "2020-10-14T19:59:39.453Z"
    }
   },
   "outputs": [],
   "source": [
    "# testing below 2020-10-14\n",
    "from sklearn.preprocessing import LabelEncoder\n",
    "from scipy.sparse import csr_matrix\n",
    "\n",
    "def create_csr_X_matrix(df):\n",
    "    m_len = len(df.title.unique())\n",
    "    u_len = len(df.reviewerID.unique())\n",
    "\n",
    "    movie_encoder = LabelEncoder()\n",
    "    user_encoder = LabelEncoder()\n",
    "\n",
    "    m = movie_encoder.fit_transform(df.title)\n",
    "    u = user_encoder.fit_transform(df.reviewerID)\n",
    "\n",
    "    m_len = len(df.title.unique())\n",
    "    u_len = len(df.reviewerID.unique())\n",
    "\n",
    "    X = csr_matrix((df[\"overall\"], (m, u)), shape=(m_len, u_len))\n",
    "    return X, movie_encoder, user_encoder"
   ]
  },
  {
   "cell_type": "code",
   "execution_count": null,
   "metadata": {
    "ExecuteTime": {
     "start_time": "2020-10-14T19:59:39.462Z"
    }
   },
   "outputs": [],
   "source": [
    "X, movie_encoder, user_encoder = create_csr_X_matrix(user_rating_title_df)"
   ]
  },
  {
   "cell_type": "code",
   "execution_count": null,
   "metadata": {
    "ExecuteTime": {
     "end_time": "2020-09-12T14:08:04.811767Z",
     "start_time": "2020-09-12T14:08:04.013786Z"
    }
   },
   "outputs": [],
   "source": []
  },
  {
   "cell_type": "code",
   "execution_count": null,
   "metadata": {
    "ExecuteTime": {
     "start_time": "2020-10-14T19:59:39.476Z"
    }
   },
   "outputs": [],
   "source": [
    "from sklearn.neighbors import NearestNeighbors\n",
    "\n",
    "movie = 'Soul Calibur II - Gamecube'\n",
    "\n",
    "def find_me_a_game_to_play(movie_title, X, k=10):\n",
    "    movie_ind = movie_encoder.transform([movie])\n",
    "    movie_vec = X[movie_ind]\n",
    "    kNN = NearestNeighbors(n_neighbors=k, algorithm=\"brute\", metric='minkowski')\n",
    "    kNN.fit(X)\n",
    "    neighbour = kNN.kneighbors(movie_vec, return_distance=False)\n",
    "    close_movies = neighbour.flatten().tolist()\n",
    "    z = [movie_encoder.inverse_transform([m])[0] for m in close_movies]\n",
    "    z = [zi for zi in z if zi != movie_title]\n",
    "    return z"
   ]
  },
  {
   "cell_type": "code",
   "execution_count": null,
   "metadata": {
    "ExecuteTime": {
     "start_time": "2020-10-14T19:59:39.485Z"
    }
   },
   "outputs": [],
   "source": [
    "find_me_a_game_to_play('Just Dance 2 - Nintendo Wii', X, k=10)"
   ]
  },
  {
   "cell_type": "code",
   "execution_count": null,
   "metadata": {},
   "outputs": [],
   "source": []
  },
  {
   "cell_type": "code",
   "execution_count": null,
   "metadata": {},
   "outputs": [],
   "source": []
  },
  {
   "cell_type": "code",
   "execution_count": null,
   "metadata": {},
   "outputs": [],
   "source": [
    "# delete - for testing\n",
    "import pandas as pd\n",
    "df = pd.read_csv('video_games_reviews.csv')"
   ]
  },
  {
   "cell_type": "code",
   "execution_count": 2,
   "metadata": {
    "ExecuteTime": {
     "end_time": "2020-10-14T20:45:18.576450Z",
     "start_time": "2020-10-14T20:45:18.303438Z"
    }
   },
   "outputs": [],
   "source": [
    "#Extracting the features needed to build the utility matrix \n",
    "user_rating_title_df = df[['reviewerID', 'title', 'overall']]"
   ]
  },
  {
   "cell_type": "markdown",
   "metadata": {
    "ExecuteTime": {
     "start_time": "2020-10-14T19:59:39.517Z"
    }
   },
   "source": [
    "Pivoting the extracted dataframe to build the utility matrix and transposing it to get shape we want "
   ]
  },
  {
   "cell_type": "code",
   "execution_count": 32,
   "metadata": {
    "ExecuteTime": {
     "end_time": "2020-10-15T14:29:48.913042Z",
     "start_time": "2020-10-15T14:29:48.887466Z"
    }
   },
   "outputs": [],
   "source": [
    "# taking the first x rows\n",
    "user_rating_title_df_1 = user_rating_title_df.head(500000)"
   ]
  },
  {
   "cell_type": "code",
   "execution_count": 6,
   "metadata": {
    "ExecuteTime": {
     "end_time": "2020-10-14T20:35:11.802398Z",
     "start_time": "2020-10-14T20:35:11.793849Z"
    }
   },
   "outputs": [
    {
     "data": {
      "text/plain": [
       "(900000, 3)"
      ]
     },
     "execution_count": 6,
     "metadata": {},
     "output_type": "execute_result"
    }
   ],
   "source": [
    "user_rating_title_df_1.shape"
   ]
  },
  {
   "cell_type": "code",
   "execution_count": null,
   "metadata": {},
   "outputs": [],
   "source": [
    "user_rating_title_df_1.shape()"
   ]
  },
  {
   "cell_type": "code",
   "execution_count": null,
   "metadata": {},
   "outputs": [],
   "source": []
  },
  {
   "cell_type": "code",
   "execution_count": null,
   "metadata": {},
   "outputs": [],
   "source": []
  },
  {
   "cell_type": "markdown",
   "metadata": {
    "ExecuteTime": {
     "end_time": "2020-09-11T21:42:32.567985Z",
     "start_time": "2020-09-11T21:42:32.550007Z"
    }
   },
   "source": [
    "Original code below"
   ]
  },
  {
   "cell_type": "code",
   "execution_count": null,
   "metadata": {
    "ExecuteTime": {
     "start_time": "2020-10-15T14:29:50.704Z"
    }
   },
   "outputs": [],
   "source": [
    "utility_matrix = user_rating_title_df_1.pivot_table(values = 'overall', columns = 'title', index = 'reviewerID' , fill_value = 0)\n"
   ]
  },
  {
   "cell_type": "code",
   "execution_count": null,
   "metadata": {
    "ExecuteTime": {
     "start_time": "2020-10-14T19:59:39.550Z"
    }
   },
   "outputs": [],
   "source": [
    "utility_matrix = utility_matrix.T\n",
    "utility_matrix.head()"
   ]
  },
  {
   "cell_type": "code",
   "execution_count": null,
   "metadata": {
    "ExecuteTime": {
     "start_time": "2020-10-14T19:59:39.565Z"
    }
   },
   "outputs": [],
   "source": [
    "from sklearn.decomposition import TruncatedSVD\n",
    "#Initializing the svd class to decompose our utility matrix to 10000 most important latent factors \n",
    "svd = TruncatedSVD(n_components = 10000, random_state = 42)\n",
    "#Fitting it on our data\n",
    "t_matrix = svd.fit_transform( utility_matrix )\n",
    "#Calculating the correlation matrix of our decomposed matrix \n",
    "corr_mat = np.corrcoef( t_matrix )"
   ]
  },
  {
   "cell_type": "code",
   "execution_count": null,
   "metadata": {
    "ExecuteTime": {
     "start_time": "2020-10-14T19:59:39.574Z"
    }
   },
   "outputs": [],
   "source": [
    "#Saving the decomposed and correlation matrix to file \n",
    "corr_svd_mat_filepath = '/Users/sam/DataScience/Datasets/corr_svd_mat_reviews'\n",
    "np.save( corr_svd_mat_filepath, corr_mat )\n",
    "svd_mat_filepath = '/Users/sam/DataScience/Datasets/svd_mat_reviews'\n",
    "np.save( svd_mat_filepath, t_matrix )"
   ]
  },
  {
   "cell_type": "code",
   "execution_count": null,
   "metadata": {
    "ExecuteTime": {
     "start_time": "2020-10-14T19:59:39.582Z"
    }
   },
   "outputs": [],
   "source": [
    "movie_names =  utility_matrix.T.columns \n",
    "movie_names_list = list( movie_names )\n",
    "#Function that takes in a user id and returns a list containing the top 5 recommendations for each movie\n",
    "#the user rated 5 stars based on the calculated corr matrix \n",
    "def recommend_titles_cf(user_id):\n",
    "    \n",
    "    recommended = []\n",
    "    user_movies = set( data[ (data.reviewerID == user) & (data.overall == 5) ].title )\n",
    "    \n",
    "    for w_title in user_movies:\n",
    "        w_title_high_corr_indices =  np.argsort( corr_mat[ movie_names_list.index(w_title) ] )\n",
    "        \n",
    "        for title_index in w_title_high_corr_indices[::-1][1:6]:\n",
    "            if movie_names[title_index] not in recommended:\n",
    "                recommended.append( movie_names[title_index] )\n",
    "    \n",
    "    return recommended "
   ]
  },
  {
   "cell_type": "code",
   "execution_count": null,
   "metadata": {
    "ExecuteTime": {
     "start_time": "2020-10-14T19:59:39.588Z"
    }
   },
   "outputs": [],
   "source": [
    "print('Titles rated highly by this user:\\n')\n",
    "for movie in list( ( data[ (data.overall == 5) & (data.reviewerID == user) ].title ) ):\n",
    "        print(movie)\n",
    "print()\n",
    "print()\n",
    "print()\n",
    "print('Titles recommneded by our collaborative filtering system:\\n')\n",
    "for movie in recommend_titles_cf('A3QOPWF1LQCR6L'):\n",
    "    print(movie)"
   ]
  },
  {
   "cell_type": "markdown",
   "metadata": {},
   "source": [
    "* The user rated 'Air Force One' highly which is an action/thriller/spy movie  and we see the model recommended other such <br>\n",
    "movies such as 'The Bone Collector', 'The Bourne Identity', 'Training Day' and another famous Harrison Ford movie 'The Patriot Games' \n",
    "* The user rated 'Black Hawk Down' highly which is a war/action movie and we see the model recommended other such movies <br>\n",
    "like 'Pearl Harbor' and 'Saving Private Ryan'.\n",
    "* The user rated 'One Fine Morning' and 'You've Got Mail' which are drama movies and we see the model recommended other such movies <br>\n",
    "such as 'Sleepless in Seattle', 'While you were sleeping', 'French Kiss'. \n",
    "\n",
    "<br>For a very simple collaborative filtering system out model has done a good job of recommending movies to the given user."
   ]
  },
  {
   "cell_type": "code",
   "execution_count": null,
   "metadata": {},
   "outputs": [],
   "source": []
  },
  {
   "cell_type": "code",
   "execution_count": null,
   "metadata": {},
   "outputs": [],
   "source": []
  },
  {
   "cell_type": "markdown",
   "metadata": {},
   "source": [
    "5. Discussion\n",
    "5.1 Further Improvements\n",
    "Businesses do not necessarily need to have a sentiment score for reviews, especially for ecommerce sites such as Amazon where a rating is also available. For manufactures in particular even if they have a score they would not know exactly where to prioritize their efforts to improve their products. Instead, by giving them the specifics characteristics where their products are failing or not they get valuable insights to tackle problems as they arise. Hence, the challenge of correctly extracting the products characteristics is of major importance. This application underperforms in the capabilities of extracting the characteristics and seems to perform fairly well in assigning the correct sentiments to them (although some exceptions need to be adjusted through gazetteers by using the domain knowledge of the business and industry). To further improve characteristics extraction an approach using topic modelling could be implemented, where assumptions are made on the probabilistic distribution of topics inside documents. An example of this would be the Latent Dirichlet Allocation that outputs word clusters. By extending the basic model of identifying topics, we can separate sentiment and features from each topic. As mentioned before, opinion word can be incorrectly assigned to characteristics when multiple characteristics are present, a task that could be tackled and improved with the usage of Name Entity Recognition (NER) and Relationship extraction (RE). Because of computational limitations we worked only on a subsample of the ~400,000 reviews. In the future using cloud computing as well as parallelization and improving the algorithm will allow to process an even larger amount of reviews. Finally to have statistically significant results a larger test set should be created with roughly at least 10% of the data (for this project only ~150 reviews were created).\n",
    "\n",
    "5.2 Conclusion\n",
    "In this project we analyzed the performance of measuring sentiment analysis on specific characteristics of mobile phones mentioned in customer reviews to provide manufacturers with actionable insights to improve their products and for sellers to improve their offerings. Results shows the worst performance on characteristic extraction where Recall is critically low. This topic is also the main challenge which could be further improved by implementing topic modelling. Sentiment scores on characteristics extraction revealed a good but not great performance suggesting that further improvements could be made using Relationship Extraction. However the test set was too small to have a clear statistical significance on the results."
   ]
  },
  {
   "cell_type": "code",
   "execution_count": null,
   "metadata": {},
   "outputs": [],
   "source": []
  },
  {
   "cell_type": "code",
   "execution_count": null,
   "metadata": {},
   "outputs": [],
   "source": []
  },
  {
   "cell_type": "code",
   "execution_count": null,
   "metadata": {},
   "outputs": [],
   "source": []
  },
  {
   "cell_type": "code",
   "execution_count": null,
   "metadata": {},
   "outputs": [],
   "source": []
  },
  {
   "cell_type": "code",
   "execution_count": null,
   "metadata": {},
   "outputs": [],
   "source": []
  },
  {
   "cell_type": "code",
   "execution_count": null,
   "metadata": {},
   "outputs": [],
   "source": []
  },
  {
   "cell_type": "code",
   "execution_count": null,
   "metadata": {},
   "outputs": [],
   "source": []
  },
  {
   "cell_type": "code",
   "execution_count": null,
   "metadata": {},
   "outputs": [],
   "source": []
  },
  {
   "cell_type": "code",
   "execution_count": null,
   "metadata": {},
   "outputs": [],
   "source": []
  },
  {
   "cell_type": "code",
   "execution_count": null,
   "metadata": {},
   "outputs": [],
   "source": []
  },
  {
   "cell_type": "code",
   "execution_count": null,
   "metadata": {},
   "outputs": [],
   "source": []
  },
  {
   "cell_type": "code",
   "execution_count": null,
   "metadata": {},
   "outputs": [],
   "source": []
  },
  {
   "cell_type": "code",
   "execution_count": null,
   "metadata": {},
   "outputs": [],
   "source": []
  },
  {
   "cell_type": "code",
   "execution_count": null,
   "metadata": {},
   "outputs": [],
   "source": []
  },
  {
   "cell_type": "code",
   "execution_count": null,
   "metadata": {},
   "outputs": [],
   "source": []
  },
  {
   "cell_type": "code",
   "execution_count": null,
   "metadata": {},
   "outputs": [],
   "source": []
  },
  {
   "cell_type": "code",
   "execution_count": null,
   "metadata": {},
   "outputs": [],
   "source": []
  },
  {
   "cell_type": "code",
   "execution_count": null,
   "metadata": {},
   "outputs": [],
   "source": []
  },
  {
   "cell_type": "code",
   "execution_count": null,
   "metadata": {},
   "outputs": [],
   "source": []
  },
  {
   "cell_type": "code",
   "execution_count": null,
   "metadata": {},
   "outputs": [],
   "source": []
  },
  {
   "cell_type": "code",
   "execution_count": null,
   "metadata": {},
   "outputs": [],
   "source": []
  },
  {
   "cell_type": "code",
   "execution_count": null,
   "metadata": {},
   "outputs": [],
   "source": []
  },
  {
   "cell_type": "code",
   "execution_count": null,
   "metadata": {},
   "outputs": [],
   "source": []
  },
  {
   "cell_type": "code",
   "execution_count": null,
   "metadata": {},
   "outputs": [],
   "source": []
  },
  {
   "cell_type": "code",
   "execution_count": null,
   "metadata": {},
   "outputs": [],
   "source": []
  },
  {
   "cell_type": "code",
   "execution_count": null,
   "metadata": {},
   "outputs": [],
   "source": []
  },
  {
   "cell_type": "code",
   "execution_count": null,
   "metadata": {},
   "outputs": [],
   "source": []
  },
  {
   "cell_type": "code",
   "execution_count": null,
   "metadata": {},
   "outputs": [],
   "source": []
  },
  {
   "cell_type": "code",
   "execution_count": null,
   "metadata": {},
   "outputs": [],
   "source": []
  },
  {
   "cell_type": "code",
   "execution_count": null,
   "metadata": {},
   "outputs": [],
   "source": []
  },
  {
   "cell_type": "code",
   "execution_count": null,
   "metadata": {},
   "outputs": [],
   "source": []
  },
  {
   "cell_type": "code",
   "execution_count": null,
   "metadata": {},
   "outputs": [],
   "source": []
  },
  {
   "cell_type": "code",
   "execution_count": null,
   "metadata": {},
   "outputs": [],
   "source": []
  },
  {
   "cell_type": "code",
   "execution_count": null,
   "metadata": {
    "ExecuteTime": {
     "start_time": "2020-10-14T19:59:39.726Z"
    }
   },
   "outputs": [],
   "source": [
    "#  "
   ]
  },
  {
   "cell_type": "code",
   "execution_count": null,
   "metadata": {},
   "outputs": [],
   "source": []
  },
  {
   "cell_type": "code",
   "execution_count": null,
   "metadata": {},
   "outputs": [],
   "source": []
  },
  {
   "cell_type": "code",
   "execution_count": null,
   "metadata": {},
   "outputs": [],
   "source": []
  },
  {
   "cell_type": "code",
   "execution_count": null,
   "metadata": {},
   "outputs": [],
   "source": []
  },
  {
   "cell_type": "code",
   "execution_count": null,
   "metadata": {},
   "outputs": [],
   "source": []
  },
  {
   "cell_type": "code",
   "execution_count": null,
   "metadata": {},
   "outputs": [],
   "source": []
  },
  {
   "cell_type": "code",
   "execution_count": null,
   "metadata": {},
   "outputs": [],
   "source": []
  },
  {
   "cell_type": "code",
   "execution_count": null,
   "metadata": {},
   "outputs": [],
   "source": []
  },
  {
   "cell_type": "markdown",
   "metadata": {},
   "source": [
    "### DISREGARD BELOW THIS / TESTING"
   ]
  },
  {
   "cell_type": "code",
   "execution_count": null,
   "metadata": {
    "ExecuteTime": {
     "start_time": "2020-10-14T19:59:39.765Z"
    }
   },
   "outputs": [],
   "source": [
    "%%html\n",
    "<style>\n",
    "table,td,tr,th {border:none !important; }\n",
    "</style>"
   ]
  },
  {
   "cell_type": "code",
   "execution_count": null,
   "metadata": {
    "ExecuteTime": {
     "start_time": "2020-10-14T19:59:39.772Z"
    }
   },
   "outputs": [],
   "source": [
    "from IPython.display import Image\n",
    "from IPython.core.display import HTML "
   ]
  },
  {
   "cell_type": "markdown",
   "metadata": {},
   "source": []
  },
  {
   "cell_type": "markdown",
   "metadata": {},
   "source": [
    "About the data:\n",
    "- number of ratings are evenly distributed from 1-5\n",
    "- a wealth of information on the review text!\n",
    "- but how to process them? what does this mean about the data?"
   ]
  },
  {
   "cell_type": "markdown",
   "metadata": {
    "ExecuteTime": {
     "end_time": "2020-08-27T20:37:49.557208Z",
     "start_time": "2020-08-27T20:37:49.517456Z"
    }
   },
   "source": [
    "<a id='unsupervised'></a>\n",
    "\n",
    "## Unsupervised learning\n",
    "\n",
    "---\n",
    "\n",
    "> **Supervised --> Classification** - create a model to predict which group a point belongs to.\n",
    "\n",
    "> **Unsupervised --> Clustering** - find groups that exist in the data already.\n",
    "\n",
    "We use unsupervised methods when we don't have labeled  data. There are no true targets to predict, we derive the likely categories from the structure in our data.\n",
    "\n",
    "| Pros | Cons |\n",
    "|---|---|\n",
    "| No labels | Difficult to evaluate correctness without subject matter expertise |\n",
    "| Few or no assumptions about data | Scaling / normalization often required |\n",
    "| Useful for subset / segmentation discovery | Can be difficult to visualize |\n",
    "| Great for broad insights | Extremely difficult to tune |\n",
    "| Many models avalable | No obvious choice in many cases |\n",
    "| Black magic | Considered \"unconventional\" and unreliable |"
   ]
  },
  {
   "cell_type": "code",
   "execution_count": null,
   "metadata": {},
   "outputs": [],
   "source": []
  },
  {
   "cell_type": "code",
   "execution_count": null,
   "metadata": {
    "ExecuteTime": {
     "start_time": "2020-10-14T19:59:39.788Z"
    }
   },
   "outputs": [],
   "source": [
    "import pandas as pd\n",
    "import numpy as np\n",
    "import re\n",
    "\n",
    "import bz2\n",
    "\n",
    "import nltk\n",
    "from nltk.stem.porter import PorterStemmer\n",
    "from nltk.corpus import stopwords\n",
    "\n",
    "from sklearn.feature_extraction.text import CountVectorizer\n",
    "from sklearn.model_selection import train_test_split\n",
    "\n",
    "from sklearn.metrics import confusion_matrix\n",
    "\n",
    "from sklearn.metrics import accuracy_score\n",
    "from sklearn.metrics import precision_score\n",
    "from sklearn.metrics import recall_score\n",
    "\n",
    "from sklearn.metrics import f1_score,roc_auc_score, classification_report\n",
    "\n",
    "import matplotlib.pyplot as plt\n",
    "%matplotlib inline"
   ]
  },
  {
   "cell_type": "code",
   "execution_count": null,
   "metadata": {},
   "outputs": [],
   "source": []
  },
  {
   "cell_type": "code",
   "execution_count": null,
   "metadata": {
    "ExecuteTime": {
     "start_time": "2020-10-14T19:59:39.801Z"
    }
   },
   "outputs": [],
   "source": [
    "col_names = ['rating','title','review']\n",
    "df = pd.read_csv('train.csv', names=col_names)\n",
    "\n",
    "df.info()"
   ]
  },
  {
   "cell_type": "code",
   "execution_count": null,
   "metadata": {
    "ExecuteTime": {
     "start_time": "2020-10-14T19:59:39.809Z"
    }
   },
   "outputs": [],
   "source": [
    "# ratings from the raw data is evenly distributed\n",
    "df.hist()"
   ]
  },
  {
   "cell_type": "code",
   "execution_count": null,
   "metadata": {
    "ExecuteTime": {
     "start_time": "2020-10-14T19:59:39.816Z"
    }
   },
   "outputs": [],
   "source": [
    "# the percentage of missing data in each column\n",
    "df.isnull().sum() / len(df)\n"
   ]
  },
  {
   "cell_type": "code",
   "execution_count": null,
   "metadata": {},
   "outputs": [],
   "source": []
  },
  {
   "cell_type": "code",
   "execution_count": null,
   "metadata": {
    "ExecuteTime": {
     "start_time": "2020-10-14T19:59:39.827Z"
    }
   },
   "outputs": [],
   "source": [
    "# 08/21 goal is to do sentiment analysis on reviews to see if it matches with ratings\n",
    "# might change goal later on\n",
    "\n",
    "# replace the rating: 3 and above as 1 and below 3 as 0.\n",
    "def filter_data(value):\n",
    "    if value>=3.0:\n",
    "        return 1\n",
    "    else:\n",
    "        return 0\n",
    "#creating a new column has the filtered data\n",
    "df['modified'] = df['rating'].apply(filter_data)"
   ]
  },
  {
   "cell_type": "code",
   "execution_count": null,
   "metadata": {
    "ExecuteTime": {
     "start_time": "2020-10-14T19:59:39.834Z"
    }
   },
   "outputs": [],
   "source": [
    "df = df.dropna()"
   ]
  },
  {
   "cell_type": "code",
   "execution_count": null,
   "metadata": {
    "ExecuteTime": {
     "start_time": "2020-10-14T19:59:39.840Z"
    }
   },
   "outputs": [],
   "source": [
    "# random sample 10000 for easier computation, rather than 3M entries\n",
    "df = df.sample(10000)"
   ]
  },
  {
   "cell_type": "code",
   "execution_count": null,
   "metadata": {},
   "outputs": [],
   "source": []
  },
  {
   "cell_type": "code",
   "execution_count": null,
   "metadata": {
    "ExecuteTime": {
     "start_time": "2020-10-14T19:59:39.850Z"
    }
   },
   "outputs": [],
   "source": [
    "\"\"\"\n",
    "in the statement ==> df.reset_index(drop=True,inplace=True)\n",
    "what we actually do is we reset the index number in the dataset because\n",
    "if we don't do it the column numbers will be disordered.\n",
    "if we don't do we will have index number like 0,1,2,3,7,10,11,17.\n",
    "if we have like this iteration is not possible we will get key value error\n",
    "\"\"\"\n",
    "df.reset_index(drop=True,inplace=True)"
   ]
  },
  {
   "cell_type": "code",
   "execution_count": null,
   "metadata": {
    "ExecuteTime": {
     "start_time": "2020-10-14T19:59:39.857Z"
    }
   },
   "outputs": [],
   "source": [
    "# let's take a look at our data\n",
    "df.info()"
   ]
  },
  {
   "cell_type": "code",
   "execution_count": null,
   "metadata": {
    "ExecuteTime": {
     "start_time": "2020-10-14T19:59:39.864Z"
    }
   },
   "outputs": [],
   "source": [
    "df.head()"
   ]
  },
  {
   "cell_type": "code",
   "execution_count": null,
   "metadata": {
    "ExecuteTime": {
     "end_time": "2020-08-27T20:49:03.823044Z",
     "start_time": "2020-08-27T20:48:59.815082Z"
    }
   },
   "outputs": [],
   "source": []
  },
  {
   "cell_type": "code",
   "execution_count": null,
   "metadata": {
    "ExecuteTime": {
     "start_time": "2020-10-14T19:59:39.880Z"
    }
   },
   "outputs": [],
   "source": [
    "nltk.download('stopwords')"
   ]
  },
  {
   "cell_type": "code",
   "execution_count": null,
   "metadata": {
    "ExecuteTime": {
     "start_time": "2020-10-14T19:59:39.888Z"
    }
   },
   "outputs": [],
   "source": [
    " # Search through regex for the special character set, using the substitute function substitute the regex with space using this [^a-zA-Z ] which finds those which do not belong to a to z or A to Z. Then I made the sentence to lower case and then split it into words then I had to check whether the word belongs to the stopwords or not for this I used the porter stemmer class to perform it.\n",
    "corpus = []\n",
    "for i in range(0, 10000):\n",
    "    review = re.sub('[^a-zA-Z]', ' ', df['review'][i])\n",
    "    review = review.lower()\n",
    "    review = review.split()\n",
    "    review = [word for word in review if not word in set(stopwords.words('english'))]\n",
    "    ps = PorterStemmer()\n",
    "    review = [ps.stem(word) for word in review]\n",
    "    review = ' '.join(review)\n",
    "    corpus.append(review)"
   ]
  },
  {
   "cell_type": "code",
   "execution_count": null,
   "metadata": {},
   "outputs": [],
   "source": []
  },
  {
   "cell_type": "code",
   "execution_count": null,
   "metadata": {
    "ExecuteTime": {
     "start_time": "2020-10-14T19:59:39.903Z"
    }
   },
   "outputs": [],
   "source": [
    "# vectorization\n",
    "# convert textual data to numerical format. Using vectorization, a matrix is created where each column represents a feature and each row represents an individual review.\n",
    "\n",
    "# Creating the Bag of Words model using CountVectorizer\n",
    "cv = CountVectorizer(max_features = 1500)\n",
    "features = cv.fit_transform(corpus).toarray()\n",
    "labels = df.iloc[:, -1].values"
   ]
  },
  {
   "cell_type": "code",
   "execution_count": null,
   "metadata": {
    "ExecuteTime": {
     "start_time": "2020-10-14T19:59:39.911Z"
    }
   },
   "outputs": [],
   "source": [
    "# Splitting the dataset into the Training set and Test set\n",
    "X_train, X_test, y_train, y_test = train_test_split(features, labels, test_size = 0.3, random_state = 42)"
   ]
  },
  {
   "cell_type": "code",
   "execution_count": null,
   "metadata": {
    "ExecuteTime": {
     "start_time": "2020-10-14T19:59:39.918Z"
    }
   },
   "outputs": [],
   "source": [
    "# multinomial NB\n",
    "# Fitting Naive Bayes to the Training set\n",
    "from sklearn.naive_bayes import MultinomialNB\n",
    "classifier = MultinomialNB(alpha=0.1)\n",
    "classifier.fit(X_train, y_train)\n",
    "\n",
    "# Predicting the Test set results\n",
    "y_pred = classifier.predict(X_test)\n",
    "\n",
    "# Making the Confusion Matrix\n",
    "cm = confusion_matrix(y_test, y_pred)\n",
    "print (\"Confusion Matrix:\\n\",cm)\n",
    "\n",
    "# Accuracy, Precision and Recall\n",
    "score1 = accuracy_score(y_test,y_pred)\n",
    "score2 = precision_score(y_test,y_pred)\n",
    "score3= recall_score(y_test,y_pred)\n",
    "print(\"\\n\")\n",
    "print(\"Accuracy is \",round(score1*100,2),\"%\")\n",
    "print(\"Precision is \",round(score2,2))\n",
    "print(\"Recall is \",round(score3,2))"
   ]
  },
  {
   "cell_type": "code",
   "execution_count": null,
   "metadata": {},
   "outputs": [],
   "source": []
  },
  {
   "cell_type": "code",
   "execution_count": null,
   "metadata": {
    "ExecuteTime": {
     "start_time": "2020-10-14T19:59:39.927Z"
    }
   },
   "outputs": [],
   "source": [
    "# Bernoulli NB\n",
    "\n",
    "# Fitting Naive Bayes to the Training set\n",
    "from sklearn.naive_bayes import BernoulliNB\n",
    "classifier = BernoulliNB(alpha=0.8)\n",
    "classifier.fit(X_train, y_train)\n",
    "\n",
    "# Predicting the Test set results\n",
    "y_pred = classifier.predict(X_test)\n",
    "\n",
    "# Making the Confusion Matrix\n",
    "cm = confusion_matrix(y_test, y_pred)\n",
    "print (\"Confusion Matrix:\\n\",cm)\n",
    "\n",
    "# Accuracy, Precision and Recall\n",
    "\n",
    "score1 = accuracy_score(y_test,y_pred)\n",
    "score2 = precision_score(y_test,y_pred)\n",
    "score3= recall_score(y_test,y_pred)\n",
    "print(\"\\n\")\n",
    "print(\"Accuracy is \",round(score1*100,2),\"%\")\n",
    "print(\"Precision is \",round(score2,2))\n",
    "print(\"Recall is \",round(score3,2))"
   ]
  },
  {
   "cell_type": "code",
   "execution_count": null,
   "metadata": {},
   "outputs": [],
   "source": []
  },
  {
   "cell_type": "code",
   "execution_count": null,
   "metadata": {
    "ExecuteTime": {
     "start_time": "2020-10-14T19:59:39.937Z"
    }
   },
   "outputs": [],
   "source": [
    "# Logistic Regression\n",
    "\n",
    "# Fitting Logistic Regression to the Training set\n",
    "from sklearn import linear_model\n",
    "classifier = linear_model.LogisticRegression(C=1.5)\n",
    "classifier.fit(X_train, y_train)\n",
    "\n",
    "# Predicting the Test set results\n",
    "y_pred = classifier.predict(X_test)\n",
    "\n",
    "# Making the Confusion Matrix\n",
    "cm = confusion_matrix(y_test, y_pred)\n",
    "print (\"Confusion Matrix:\\n\",cm)\n",
    "\n",
    "# Accuracy, Precision and Recall\n",
    "\n",
    "score1 = accuracy_score(y_test,y_pred)\n",
    "score2 = precision_score(y_test,y_pred)\n",
    "score3= recall_score(y_test,y_pred)\n",
    "print(\"\\n\")\n",
    "print(\"Accuracy is \",round(score1*100,2),\"%\")\n",
    "print(\"Precision is \",round(score2,2))\n",
    "print(\"Recall is \",round(score3,2))\n"
   ]
  },
  {
   "cell_type": "code",
   "execution_count": null,
   "metadata": {},
   "outputs": [],
   "source": []
  },
  {
   "cell_type": "code",
   "execution_count": null,
   "metadata": {},
   "outputs": [],
   "source": []
  },
  {
   "cell_type": "code",
   "execution_count": null,
   "metadata": {},
   "outputs": [],
   "source": []
  },
  {
   "cell_type": "code",
   "execution_count": null,
   "metadata": {},
   "outputs": [],
   "source": []
  },
  {
   "cell_type": "code",
   "execution_count": null,
   "metadata": {},
   "outputs": [],
   "source": []
  },
  {
   "cell_type": "code",
   "execution_count": null,
   "metadata": {},
   "outputs": [],
   "source": []
  },
  {
   "cell_type": "code",
   "execution_count": null,
   "metadata": {},
   "outputs": [],
   "source": []
  },
  {
   "cell_type": "code",
   "execution_count": null,
   "metadata": {},
   "outputs": [],
   "source": []
  },
  {
   "cell_type": "code",
   "execution_count": null,
   "metadata": {},
   "outputs": [],
   "source": []
  },
  {
   "cell_type": "code",
   "execution_count": null,
   "metadata": {},
   "outputs": [],
   "source": []
  }
 ],
 "metadata": {
  "kernelspec": {
   "display_name": "Python 3",
   "language": "python",
   "name": "python3"
  },
  "language_info": {
   "codemirror_mode": {
    "name": "ipython",
    "version": 3
   },
   "file_extension": ".py",
   "mimetype": "text/x-python",
   "name": "python",
   "nbconvert_exporter": "python",
   "pygments_lexer": "ipython3",
   "version": "3.7.6"
  },
  "toc": {
   "base_numbering": 1,
   "nav_menu": {},
   "number_sections": false,
   "sideBar": true,
   "skip_h1_title": false,
   "title_cell": "Table of Contents",
   "title_sidebar": "Contents",
   "toc_cell": false,
   "toc_position": {},
   "toc_section_display": true,
   "toc_window_display": false
  }
 },
 "nbformat": 4,
 "nbformat_minor": 2
}
